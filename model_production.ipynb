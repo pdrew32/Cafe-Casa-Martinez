{
 "cells": [
  {
   "attachments": {},
   "cell_type": "markdown",
   "id": "2b335d8c",
   "metadata": {},
   "source": [
    "# Summary\n",
    "\n",
    "In this script I fit Linear regression, Elastic net, and LightGBM models to the regression task of predicting production based on monthly rainfall totals. I find the best performance from Elastic net regression with an R$^2$ value of 0.652417, an RMSE of 1115.5 kg and an MAE of 890.7 kg. For comparison, the median production value is 3664.5 kg.\n",
    "\n",
    "# Libraries"
   ]
  },
  {
   "cell_type": "code",
   "execution_count": 2,
   "id": "68bf003c",
   "metadata": {},
   "outputs": [],
   "source": [
    "import pandas as pd\n",
    "import seaborn as sns\n",
    "from matplotlib import pyplot as plt\n",
    "from numpy.random import Generator\n",
    "from numpy.random import SFC64\n",
    "import numpy as np\n",
    "import warnings\n",
    "\n",
    "import lightgbm as lgb\n",
    "import optuna\n",
    "from sklearn.linear_model import LinearRegression\n",
    "from sklearn.linear_model import ElasticNet\n",
    "from sklearn.model_selection import KFold\n",
    "from sklearn.model_selection import train_test_split\n",
    "from sklearn.model_selection import RandomizedSearchCV\n",
    "from scipy.stats import loguniform\n",
    "from scipy.stats import uniform\n",
    "from sklearn.pipeline import Pipeline\n",
    "from sklearn.preprocessing import StandardScaler\n",
    "from sklearn.metrics import mean_squared_error\n",
    "from sklearn.metrics import mean_absolute_error\n",
    "from sklearn.metrics import r2_score\n",
    "\n",
    "import constants_helper as c\n",
    "from function_helper import correlations"
   ]
  },
  {
   "cell_type": "markdown",
   "id": "af077583",
   "metadata": {},
   "source": [
    "# Define Constants"
   ]
  },
  {
   "cell_type": "code",
   "execution_count": 3,
   "id": "ae84b440",
   "metadata": {},
   "outputs": [],
   "source": [
    "warnings.filterwarnings('ignore')\n",
    "\n",
    "SEED = 1337\n",
    "FOLDS = 10\n",
    "N_SAMPLES = 500\n",
    "\n",
    "GENERATE_NEW_DATA = False\n",
    "SAVE_DATA = False\n",
    "SAVE_MODEL = False\n",
    "\n",
    "SIM_DATA_PATH = 'data/simulated_data_rainfall.parquet'\n",
    "MODEL_PATH = 'data/elas_regression_model.joblib'\n",
    "\n",
    "sns.set_theme()"
   ]
  },
  {
   "cell_type": "markdown",
   "id": "9b0b5a3a",
   "metadata": {},
   "source": [
    "# Define Functions"
   ]
  },
  {
   "cell_type": "code",
   "execution_count": 4,
   "id": "0b6a9678",
   "metadata": {},
   "outputs": [],
   "source": [
    "# use a better rng than the default numpy rng\n",
    "rng = Generator(SFC64())\n",
    "\n",
    "def simulate_data(df, n_samples):\n",
    "    \"\"\"\n",
    "    Return simulated observations based on the means and covariances of the inputted dataframe\n",
    "    \"\"\"\n",
    "    sim = pd.DataFrame(data=rng.multivariate_normal(df.mean(), df.cov(), n_samples), columns=df.columns)\n",
    "    return sim"
   ]
  },
  {
   "cell_type": "code",
   "execution_count": 37,
   "id": "1d829b95",
   "metadata": {},
   "outputs": [],
   "source": [
    "def kfold_model(model, X, y):\n",
    "    models = []\n",
    "    oof_preds = []\n",
    "    fi = []\n",
    "    scores = []\n",
    "    \n",
    "    kf = KFold(n_splits=FOLDS, shuffle=True, random_state=SEED)\n",
    "    for fold, (train_idx, val_idx) in enumerate(kf.split(X, y)):\n",
    "        print(f'{\"#\"*12} Training FOLD {fold+1} {\"#\"*12}')\n",
    "        \n",
    "        X_train, y_train = X.iloc[train_idx], y.iloc[train_idx]\n",
    "        X_val, y_val = X.iloc[val_idx], y.iloc[val_idx]\n",
    "        \n",
    "        sca = StandardScaler()\n",
    "        X_train = sca.fit_transform(X_train)\n",
    "        X_val = sca.transform(X_val)\n",
    "        \n",
    "        X_train = pd.DataFrame(data=X_train, columns=X.columns)\n",
    "        X_val = pd.DataFrame(data=X_val, columns=X.columns)\n",
    "        \n",
    "        model.fit(X_train, y_train)\n",
    "        \n",
    "        val_preds = model.predict(X_val)\n",
    "        idx_pred_target = np.vstack([val_idx, val_preds, y_val]).T\n",
    "        oof_preds.append(idx_pred_target)\n",
    "        \n",
    "        fi.append(dict(zip(model.feature_names_in_, model.coef_)))\n",
    "\n",
    "        scores.append(mean_squared_error(y_val, val_preds))\n",
    "        \n",
    "        models.append(model)\n",
    "    \n",
    "    oof_preds = pd.DataFrame(data=np.concatenate(oof_preds), columns=['data_ind', 'preds', 'y_true'])\n",
    "    oof_preds['data_ind'] = oof_preds['data_ind'].astype('int32')\n",
    "    oof_preds['y_true'] = oof_preds['y_true'].astype('float32')\n",
    "    \n",
    "    return models, oof_preds, fi, scores"
   ]
  },
  {
   "cell_type": "code",
   "execution_count": 6,
   "id": "80561724",
   "metadata": {},
   "outputs": [],
   "source": [
    "def kfold_lgbm(X, y, params, early_stopping_rounds=300, verbose=100, shuffle=True):\n",
    "    models = []\n",
    "    oof_preds = []\n",
    "    fi = []\n",
    "    \n",
    "    kf = KFold(n_splits=FOLDS, shuffle=shuffle, random_state=SEED)\n",
    "    for fold, (train_idx, val_idx) in enumerate(kf.split(X, y)):\n",
    "        print(f'{\"#\"*12} Training FOLD {fold+1} {\"#\"*12}')\n",
    "        \n",
    "        X_train, y_train = X.iloc[train_idx], y.iloc[train_idx]\n",
    "        X_val, y_val = X.iloc[val_idx], y.iloc[val_idx]\n",
    "        eval_set = [(X_val, y_val)]\n",
    "        \n",
    "        lgbm = lgb.LGBMRegressor(**params)\n",
    "        lgbm.fit(X_train, y_train, eval_set=eval_set,\n",
    "                 early_stopping_rounds=early_stopping_rounds,\n",
    "                 verbose=verbose)\n",
    "        \n",
    "        val_preds = lgbm.predict(X_val)\n",
    "\n",
    "        idx_pred_target = np.vstack([val_idx, val_preds, y_val]).T\n",
    "        oof_preds.append(idx_pred_target)\n",
    "\n",
    "        fi.append(dict(zip(lgbm.feature_name_, lgbm.feature_importances_)))\n",
    "\n",
    "        models.append(lgbm)\n",
    "        \n",
    "    \n",
    "    oof_preds = pd.DataFrame(data=np.concatenate(oof_preds), columns=['data_ind', 'preds', 'y_true'])\n",
    "    oof_preds['data_ind'] = oof_preds['data_ind'].astype('int32')\n",
    "    oof_preds['y_true'] = oof_preds['y_true'].astype('float32')\n",
    "\n",
    "    return models, oof_preds, fi"
   ]
  },
  {
   "cell_type": "code",
   "execution_count": 7,
   "id": "ff37a102",
   "metadata": {},
   "outputs": [],
   "source": [
    "def feature_importances_plot(fi, xlabel='Features', ylabel='Magnitude of Importance',\n",
    "                             Title='Avg Feature Importance and SEM', color_palette='flare_r'):\n",
    "    \"\"\"\n",
    "    Given a feature importance dataframe, plot the mean feature importances in ascending order\n",
    "    with standard errors on the means.\n",
    "    \"\"\"\n",
    "    \n",
    "    plt.figure(dpi=200)\n",
    "    sns.barplot(x=fi.index[np.argsort(fi['mean'])],\n",
    "                y=fi['mean'][np.argsort(fi['mean'])],\n",
    "                yerr=fi['sem'][np.argsort(fi['mean'])],\n",
    "                color=fi['mean'][np.argsort(fi['mean'])],\n",
    "                palette=sns.color_palette(color_palette, len(fi)))\n",
    "    plt.xticks(rotation=90)\n",
    "    plt.xlabel(xlabel)\n",
    "    plt.ylabel(ylabel)\n",
    "    plt.title(Title)"
   ]
  },
  {
   "cell_type": "code",
   "execution_count": 8,
   "id": "133d842a",
   "metadata": {},
   "outputs": [],
   "source": [
    "def show_metrics(oof_preds, model_name):\n",
    "    rmse = np.sqrt(mean_squared_error(oof_preds.y_true, oof_preds.preds))\n",
    "    mae = mean_absolute_error(oof_preds.y_true, oof_preds.preds)\n",
    "    median_y = np.median(oof_preds.y_true)\n",
    "    r2 = r2_score(oof_preds.y_true, oof_preds.preds)\n",
    "    \n",
    "    print('RMSE:', rmse)\n",
    "    print('MAE:', mae)\n",
    "    print('median y:', median_y)\n",
    "    print('R2:', r2)\n",
    "    \n",
    "    metrics = pd.DataFrame(data=[rmse, mae, median_y, r2],\n",
    "                           columns=[model_name],\n",
    "                           index=['rmse', 'mae', 'median_y', 'r2'])\n",
    "    \n",
    "    return metrics"
   ]
  },
  {
   "cell_type": "code",
   "execution_count": 9,
   "id": "bb3f7913",
   "metadata": {},
   "outputs": [],
   "source": [
    "def process_fi(fi):\n",
    "    fi_ = pd.DataFrame(data=fi).transpose()\n",
    "    fi_mean = pd.DataFrame(fi_.mean(axis=1), columns=['mean'])\n",
    "    fi_sem = pd.DataFrame(fi_.sem(axis=1), columns=['sem'])\n",
    "    fi_ = pd.merge(fi_mean, fi_sem, right_index=True, left_index=True)\n",
    "    \n",
    "    return fi_"
   ]
  },
  {
   "cell_type": "markdown",
   "id": "963def0f",
   "metadata": {},
   "source": [
    "# Load the Data\n",
    "\n",
    "If generating new simulated data, generate it here, otherwise load data that was previously generated."
   ]
  },
  {
   "cell_type": "code",
   "execution_count": 10,
   "id": "8b1f3e9e",
   "metadata": {},
   "outputs": [],
   "source": [
    "# load the real data\n",
    "df = pd.read_parquet('data/rain_tots_plants_v2.parquet')\n",
    "\n",
    "# create a profit target\n",
    "df = df.drop(['year', 'tot_plants', 'prod_per_plant_kg', 'tot_rain_mm', 'dec_rain_mm'], axis=1)\n",
    "df['profit'] = False\n",
    "df.loc[df.tot_prod_kg > c.c.profit_thresh_kg, 'profit'] = True\n",
    "\n",
    "\n",
    "if GENERATE_NEW_DATA is True:\n",
    "    simf = simulate_data(df.drop(['profit'], axis=1), N_SAMPLES)\n",
    "    sf = pd.concat([df.drop(['profit'], axis=1), simf], ignore_index=True)\n",
    "    \n",
    "    sns.histplot(data=sf, x='tot_prod_kg', label='before removing neg', alpha=0.3)\n",
    "    \n",
    "    # About 4% of the simulated production values and 4% of monthly rainfall totals are negative,\n",
    "    # but we can't have negative rainfall or production, so replace any negative values with 0.\n",
    "    print('frac of total production < 0:', sum(sf.tot_prod_kg < 0)/ len(sf))\n",
    "    print('frac of monthly rainfall < 0:', ((sf.drop(['tot_prod_kg'], axis=1) < 0)).sum().sum() / (((sf.drop(['tot_prod_kg'], axis=1) < 0)).sum().sum() + ((sf.drop(['tot_prod_kg'], axis=1) > 0)).sum().sum()))\n",
    "    stack = sf.stack()\n",
    "    stack[stack < 0] = 0\n",
    "    sf = stack.unstack()\n",
    "    \n",
    "    sns.histplot(data=sf, x='tot_prod_kg', label='after removing neg', alpha=0.5, zorder=-1)\n",
    "    plt.legend()\n",
    "    \n",
    "    # Create a boolean feature that is True if the total production is greater than\n",
    "    # the profit threshold and false otherwise. This will be our target variable for classification.\n",
    "    sf['profit'] = False\n",
    "    sf.loc[sf.tot_prod_kg > c.c.profit_thresh_kg, 'profit'] = True\n",
    "    \n",
    "    sf['tot_prod_kg'] = sf['tot_prod_kg'].astype('float32')\n",
    "    sf.loc[:, sf.columns[1:-1]] = sf.loc[:, sf.columns[1:-1]].astype('int16')\n",
    "    \n",
    "else: \n",
    "    sf = pd.read_parquet(SIM_DATA_PATH)\n",
    "    sf = sf.drop('dec_rain_mm', axis=1)"
   ]
  },
  {
   "cell_type": "markdown",
   "id": "1b501f97",
   "metadata": {},
   "source": [
    "As a sanity check, let's look at the correlations of all features with respect to production on real and simulated data."
   ]
  },
  {
   "cell_type": "code",
   "execution_count": 11,
   "id": "8ebcfa29",
   "metadata": {},
   "outputs": [
    {
     "data": {
      "text/html": [
       "<div>\n",
       "<style scoped>\n",
       "    .dataframe tbody tr th:only-of-type {\n",
       "        vertical-align: middle;\n",
       "    }\n",
       "\n",
       "    .dataframe tbody tr th {\n",
       "        vertical-align: top;\n",
       "    }\n",
       "\n",
       "    .dataframe thead th {\n",
       "        text-align: right;\n",
       "    }\n",
       "</style>\n",
       "<table border=\"1\" class=\"dataframe\">\n",
       "  <thead>\n",
       "    <tr style=\"text-align: right;\">\n",
       "      <th></th>\n",
       "      <th>pearson_corr</th>\n",
       "      <th>pval</th>\n",
       "      <th>is_significant</th>\n",
       "    </tr>\n",
       "  </thead>\n",
       "  <tbody>\n",
       "    <tr>\n",
       "      <th>profit</th>\n",
       "      <td>0.848841</td>\n",
       "      <td>2.195597e-08</td>\n",
       "      <td>1.0</td>\n",
       "    </tr>\n",
       "    <tr>\n",
       "      <th>may_rain_mm</th>\n",
       "      <td>0.605169</td>\n",
       "      <td>4.022167e-04</td>\n",
       "      <td>1.0</td>\n",
       "    </tr>\n",
       "    <tr>\n",
       "      <th>jul_rain_mm</th>\n",
       "      <td>0.274594</td>\n",
       "      <td>7.874113e-02</td>\n",
       "      <td>0.0</td>\n",
       "    </tr>\n",
       "    <tr>\n",
       "      <th>jun_rain_mm</th>\n",
       "      <td>0.204311</td>\n",
       "      <td>2.091571e-01</td>\n",
       "      <td>0.0</td>\n",
       "    </tr>\n",
       "    <tr>\n",
       "      <th>jan_rain_mm</th>\n",
       "      <td>0.010792</td>\n",
       "      <td>6.861937e-01</td>\n",
       "      <td>0.0</td>\n",
       "    </tr>\n",
       "    <tr>\n",
       "      <th>sep_rain_mm</th>\n",
       "      <td>-0.022414</td>\n",
       "      <td>6.371494e-01</td>\n",
       "      <td>0.0</td>\n",
       "    </tr>\n",
       "    <tr>\n",
       "      <th>feb_rain_mm</th>\n",
       "      <td>-0.058345</td>\n",
       "      <td>7.179630e-01</td>\n",
       "      <td>0.0</td>\n",
       "    </tr>\n",
       "    <tr>\n",
       "      <th>nov_rain_mm</th>\n",
       "      <td>-0.070428</td>\n",
       "      <td>6.134847e-01</td>\n",
       "      <td>0.0</td>\n",
       "    </tr>\n",
       "    <tr>\n",
       "      <th>mar_rain_mm</th>\n",
       "      <td>-0.173568</td>\n",
       "      <td>2.302833e-01</td>\n",
       "      <td>0.0</td>\n",
       "    </tr>\n",
       "    <tr>\n",
       "      <th>apr_rain_mm</th>\n",
       "      <td>-0.313591</td>\n",
       "      <td>9.615041e-03</td>\n",
       "      <td>1.0</td>\n",
       "    </tr>\n",
       "    <tr>\n",
       "      <th>oct_rain_mm</th>\n",
       "      <td>-0.422429</td>\n",
       "      <td>2.679717e-02</td>\n",
       "      <td>1.0</td>\n",
       "    </tr>\n",
       "    <tr>\n",
       "      <th>aug_rain_mm</th>\n",
       "      <td>-0.448252</td>\n",
       "      <td>4.064999e-04</td>\n",
       "      <td>1.0</td>\n",
       "    </tr>\n",
       "  </tbody>\n",
       "</table>\n",
       "</div>"
      ],
      "text/plain": [
       "             pearson_corr          pval  is_significant\n",
       "profit           0.848841  2.195597e-08             1.0\n",
       "may_rain_mm      0.605169  4.022167e-04             1.0\n",
       "jul_rain_mm      0.274594  7.874113e-02             0.0\n",
       "jun_rain_mm      0.204311  2.091571e-01             0.0\n",
       "jan_rain_mm      0.010792  6.861937e-01             0.0\n",
       "sep_rain_mm     -0.022414  6.371494e-01             0.0\n",
       "feb_rain_mm     -0.058345  7.179630e-01             0.0\n",
       "nov_rain_mm     -0.070428  6.134847e-01             0.0\n",
       "mar_rain_mm     -0.173568  2.302833e-01             0.0\n",
       "apr_rain_mm     -0.313591  9.615041e-03             1.0\n",
       "oct_rain_mm     -0.422429  2.679717e-02             1.0\n",
       "aug_rain_mm     -0.448252  4.064999e-04             1.0"
      ]
     },
     "execution_count": 11,
     "metadata": {},
     "output_type": "execute_result"
    }
   ],
   "source": [
    "correlations(df) "
   ]
  },
  {
   "cell_type": "code",
   "execution_count": 12,
   "id": "ad5d568a",
   "metadata": {},
   "outputs": [
    {
     "data": {
      "text/html": [
       "<div>\n",
       "<style scoped>\n",
       "    .dataframe tbody tr th:only-of-type {\n",
       "        vertical-align: middle;\n",
       "    }\n",
       "\n",
       "    .dataframe tbody tr th {\n",
       "        vertical-align: top;\n",
       "    }\n",
       "\n",
       "    .dataframe thead th {\n",
       "        text-align: right;\n",
       "    }\n",
       "</style>\n",
       "<table border=\"1\" class=\"dataframe\">\n",
       "  <thead>\n",
       "    <tr style=\"text-align: right;\">\n",
       "      <th></th>\n",
       "      <th>pearson_corr</th>\n",
       "      <th>pval</th>\n",
       "      <th>is_significant</th>\n",
       "    </tr>\n",
       "  </thead>\n",
       "  <tbody>\n",
       "    <tr>\n",
       "      <th>profit</th>\n",
       "      <td>0.810582</td>\n",
       "      <td>3.656414e-09</td>\n",
       "      <td>1.0</td>\n",
       "    </tr>\n",
       "    <tr>\n",
       "      <th>may_rain_mm</th>\n",
       "      <td>0.641719</td>\n",
       "      <td>1.485689e-04</td>\n",
       "      <td>1.0</td>\n",
       "    </tr>\n",
       "    <tr>\n",
       "      <th>jul_rain_mm</th>\n",
       "      <td>0.234910</td>\n",
       "      <td>1.785177e-01</td>\n",
       "      <td>0.0</td>\n",
       "    </tr>\n",
       "    <tr>\n",
       "      <th>jun_rain_mm</th>\n",
       "      <td>0.200675</td>\n",
       "      <td>3.805481e-01</td>\n",
       "      <td>0.0</td>\n",
       "    </tr>\n",
       "    <tr>\n",
       "      <th>sep_rain_mm</th>\n",
       "      <td>-0.009228</td>\n",
       "      <td>6.971288e-01</td>\n",
       "      <td>0.0</td>\n",
       "    </tr>\n",
       "    <tr>\n",
       "      <th>jan_rain_mm</th>\n",
       "      <td>-0.013361</td>\n",
       "      <td>9.742818e-01</td>\n",
       "      <td>0.0</td>\n",
       "    </tr>\n",
       "    <tr>\n",
       "      <th>feb_rain_mm</th>\n",
       "      <td>-0.033588</td>\n",
       "      <td>7.108693e-01</td>\n",
       "      <td>0.0</td>\n",
       "    </tr>\n",
       "    <tr>\n",
       "      <th>nov_rain_mm</th>\n",
       "      <td>-0.108282</td>\n",
       "      <td>4.671102e-01</td>\n",
       "      <td>0.0</td>\n",
       "    </tr>\n",
       "    <tr>\n",
       "      <th>mar_rain_mm</th>\n",
       "      <td>-0.221278</td>\n",
       "      <td>1.257526e-01</td>\n",
       "      <td>0.0</td>\n",
       "    </tr>\n",
       "    <tr>\n",
       "      <th>apr_rain_mm</th>\n",
       "      <td>-0.365743</td>\n",
       "      <td>5.338928e-03</td>\n",
       "      <td>1.0</td>\n",
       "    </tr>\n",
       "    <tr>\n",
       "      <th>aug_rain_mm</th>\n",
       "      <td>-0.399098</td>\n",
       "      <td>2.512846e-03</td>\n",
       "      <td>1.0</td>\n",
       "    </tr>\n",
       "    <tr>\n",
       "      <th>oct_rain_mm</th>\n",
       "      <td>-0.445430</td>\n",
       "      <td>1.701270e-02</td>\n",
       "      <td>1.0</td>\n",
       "    </tr>\n",
       "  </tbody>\n",
       "</table>\n",
       "</div>"
      ],
      "text/plain": [
       "             pearson_corr          pval  is_significant\n",
       "profit           0.810582  3.656414e-09             1.0\n",
       "may_rain_mm      0.641719  1.485689e-04             1.0\n",
       "jul_rain_mm      0.234910  1.785177e-01             0.0\n",
       "jun_rain_mm      0.200675  3.805481e-01             0.0\n",
       "sep_rain_mm     -0.009228  6.971288e-01             0.0\n",
       "jan_rain_mm     -0.013361  9.742818e-01             0.0\n",
       "feb_rain_mm     -0.033588  7.108693e-01             0.0\n",
       "nov_rain_mm     -0.108282  4.671102e-01             0.0\n",
       "mar_rain_mm     -0.221278  1.257526e-01             0.0\n",
       "apr_rain_mm     -0.365743  5.338928e-03             1.0\n",
       "aug_rain_mm     -0.399098  2.512846e-03             1.0\n",
       "oct_rain_mm     -0.445430  1.701270e-02             1.0"
      ]
     },
     "execution_count": 12,
     "metadata": {},
     "output_type": "execute_result"
    }
   ],
   "source": [
    "correlations(sf)"
   ]
  },
  {
   "cell_type": "code",
   "execution_count": 13,
   "id": "04702800",
   "metadata": {},
   "outputs": [
    {
     "name": "stdout",
     "output_type": "stream",
     "text": [
      "Diff between real and simulated data correlations:\n"
     ]
    },
    {
     "data": {
      "text/plain": [
       "apr_rain_mm    0.052152\n",
       "aug_rain_mm   -0.049154\n",
       "feb_rain_mm   -0.024758\n",
       "jan_rain_mm    0.024153\n",
       "jul_rain_mm    0.039684\n",
       "jun_rain_mm    0.003636\n",
       "mar_rain_mm    0.047710\n",
       "may_rain_mm   -0.036549\n",
       "nov_rain_mm    0.037854\n",
       "oct_rain_mm    0.023001\n",
       "profit         0.038259\n",
       "sep_rain_mm   -0.013186\n",
       "Name: pearson_corr, dtype: float64"
      ]
     },
     "execution_count": 13,
     "metadata": {},
     "output_type": "execute_result"
    }
   ],
   "source": [
    "print('Diff between real and simulated data correlations:')\n",
    "correlations(df).pearson_corr - correlations(sf).pearson_corr"
   ]
  },
  {
   "cell_type": "markdown",
   "id": "9ed5d54b",
   "metadata": {},
   "source": [
    "The pearson correlation coefficients are similar in each case between real and simulated data. So are the significances of each correlation (pval < 0.05). \n",
    "\n",
    "May rainfall totals are the only feature that has a significant positive correlation with production, and October, August, and April are significantly anti-correlated, though the signal is weak in each case. Based on this, I expect May and possibly October to be important features for classification of whether a year will be profitable.\n",
    "\n",
    "# Feature Correlations\n",
    "\n",
    "I also want to watch out for features that correlate strongly with each other because models like logistic regression and SVM can run into problems when multiple features are highly correlated with each other. Gradient boosted trees, on the other hand will not have this problem. Let's look for features that have correlation coefficients greater than 0.4."
   ]
  },
  {
   "cell_type": "code",
   "execution_count": 14,
   "id": "e5ef4048",
   "metadata": {},
   "outputs": [
    {
     "data": {
      "text/html": [
       "<div>\n",
       "<style scoped>\n",
       "    .dataframe tbody tr th:only-of-type {\n",
       "        vertical-align: middle;\n",
       "    }\n",
       "\n",
       "    .dataframe tbody tr th {\n",
       "        vertical-align: top;\n",
       "    }\n",
       "\n",
       "    .dataframe thead th {\n",
       "        text-align: right;\n",
       "    }\n",
       "</style>\n",
       "<table border=\"1\" class=\"dataframe\">\n",
       "  <thead>\n",
       "    <tr style=\"text-align: right;\">\n",
       "      <th></th>\n",
       "      <th>tot_prod_kg</th>\n",
       "      <th>jan_rain_mm</th>\n",
       "      <th>feb_rain_mm</th>\n",
       "      <th>mar_rain_mm</th>\n",
       "      <th>apr_rain_mm</th>\n",
       "      <th>may_rain_mm</th>\n",
       "      <th>jun_rain_mm</th>\n",
       "      <th>jul_rain_mm</th>\n",
       "      <th>aug_rain_mm</th>\n",
       "      <th>sep_rain_mm</th>\n",
       "      <th>oct_rain_mm</th>\n",
       "      <th>nov_rain_mm</th>\n",
       "      <th>profit</th>\n",
       "    </tr>\n",
       "  </thead>\n",
       "  <tbody>\n",
       "    <tr>\n",
       "      <th>tot_prod_kg</th>\n",
       "      <td>1.000000</td>\n",
       "      <td>NaN</td>\n",
       "      <td>NaN</td>\n",
       "      <td>NaN</td>\n",
       "      <td>NaN</td>\n",
       "      <td>0.641719</td>\n",
       "      <td>NaN</td>\n",
       "      <td>NaN</td>\n",
       "      <td>NaN</td>\n",
       "      <td>NaN</td>\n",
       "      <td>NaN</td>\n",
       "      <td>NaN</td>\n",
       "      <td>0.810582</td>\n",
       "    </tr>\n",
       "    <tr>\n",
       "      <th>jan_rain_mm</th>\n",
       "      <td>NaN</td>\n",
       "      <td>1.0</td>\n",
       "      <td>NaN</td>\n",
       "      <td>NaN</td>\n",
       "      <td>NaN</td>\n",
       "      <td>NaN</td>\n",
       "      <td>NaN</td>\n",
       "      <td>NaN</td>\n",
       "      <td>NaN</td>\n",
       "      <td>NaN</td>\n",
       "      <td>NaN</td>\n",
       "      <td>NaN</td>\n",
       "      <td>NaN</td>\n",
       "    </tr>\n",
       "    <tr>\n",
       "      <th>feb_rain_mm</th>\n",
       "      <td>NaN</td>\n",
       "      <td>NaN</td>\n",
       "      <td>1.0</td>\n",
       "      <td>NaN</td>\n",
       "      <td>NaN</td>\n",
       "      <td>NaN</td>\n",
       "      <td>NaN</td>\n",
       "      <td>NaN</td>\n",
       "      <td>NaN</td>\n",
       "      <td>NaN</td>\n",
       "      <td>NaN</td>\n",
       "      <td>NaN</td>\n",
       "      <td>NaN</td>\n",
       "    </tr>\n",
       "    <tr>\n",
       "      <th>mar_rain_mm</th>\n",
       "      <td>NaN</td>\n",
       "      <td>NaN</td>\n",
       "      <td>NaN</td>\n",
       "      <td>1.000000</td>\n",
       "      <td>0.470323</td>\n",
       "      <td>NaN</td>\n",
       "      <td>NaN</td>\n",
       "      <td>NaN</td>\n",
       "      <td>NaN</td>\n",
       "      <td>NaN</td>\n",
       "      <td>NaN</td>\n",
       "      <td>NaN</td>\n",
       "      <td>NaN</td>\n",
       "    </tr>\n",
       "    <tr>\n",
       "      <th>apr_rain_mm</th>\n",
       "      <td>NaN</td>\n",
       "      <td>NaN</td>\n",
       "      <td>NaN</td>\n",
       "      <td>0.470323</td>\n",
       "      <td>1.000000</td>\n",
       "      <td>NaN</td>\n",
       "      <td>NaN</td>\n",
       "      <td>NaN</td>\n",
       "      <td>NaN</td>\n",
       "      <td>NaN</td>\n",
       "      <td>NaN</td>\n",
       "      <td>NaN</td>\n",
       "      <td>NaN</td>\n",
       "    </tr>\n",
       "    <tr>\n",
       "      <th>may_rain_mm</th>\n",
       "      <td>0.641719</td>\n",
       "      <td>NaN</td>\n",
       "      <td>NaN</td>\n",
       "      <td>NaN</td>\n",
       "      <td>NaN</td>\n",
       "      <td>1.000000</td>\n",
       "      <td>NaN</td>\n",
       "      <td>NaN</td>\n",
       "      <td>NaN</td>\n",
       "      <td>NaN</td>\n",
       "      <td>NaN</td>\n",
       "      <td>NaN</td>\n",
       "      <td>0.516099</td>\n",
       "    </tr>\n",
       "    <tr>\n",
       "      <th>jun_rain_mm</th>\n",
       "      <td>NaN</td>\n",
       "      <td>NaN</td>\n",
       "      <td>NaN</td>\n",
       "      <td>NaN</td>\n",
       "      <td>NaN</td>\n",
       "      <td>NaN</td>\n",
       "      <td>1.000000</td>\n",
       "      <td>0.745911</td>\n",
       "      <td>NaN</td>\n",
       "      <td>NaN</td>\n",
       "      <td>NaN</td>\n",
       "      <td>NaN</td>\n",
       "      <td>NaN</td>\n",
       "    </tr>\n",
       "    <tr>\n",
       "      <th>jul_rain_mm</th>\n",
       "      <td>NaN</td>\n",
       "      <td>NaN</td>\n",
       "      <td>NaN</td>\n",
       "      <td>NaN</td>\n",
       "      <td>NaN</td>\n",
       "      <td>NaN</td>\n",
       "      <td>0.745911</td>\n",
       "      <td>1.000000</td>\n",
       "      <td>NaN</td>\n",
       "      <td>NaN</td>\n",
       "      <td>NaN</td>\n",
       "      <td>NaN</td>\n",
       "      <td>NaN</td>\n",
       "    </tr>\n",
       "    <tr>\n",
       "      <th>aug_rain_mm</th>\n",
       "      <td>NaN</td>\n",
       "      <td>NaN</td>\n",
       "      <td>NaN</td>\n",
       "      <td>NaN</td>\n",
       "      <td>NaN</td>\n",
       "      <td>NaN</td>\n",
       "      <td>NaN</td>\n",
       "      <td>NaN</td>\n",
       "      <td>1.0</td>\n",
       "      <td>NaN</td>\n",
       "      <td>NaN</td>\n",
       "      <td>NaN</td>\n",
       "      <td>NaN</td>\n",
       "    </tr>\n",
       "    <tr>\n",
       "      <th>sep_rain_mm</th>\n",
       "      <td>NaN</td>\n",
       "      <td>NaN</td>\n",
       "      <td>NaN</td>\n",
       "      <td>NaN</td>\n",
       "      <td>NaN</td>\n",
       "      <td>NaN</td>\n",
       "      <td>NaN</td>\n",
       "      <td>NaN</td>\n",
       "      <td>NaN</td>\n",
       "      <td>1.0</td>\n",
       "      <td>NaN</td>\n",
       "      <td>NaN</td>\n",
       "      <td>NaN</td>\n",
       "    </tr>\n",
       "    <tr>\n",
       "      <th>oct_rain_mm</th>\n",
       "      <td>NaN</td>\n",
       "      <td>NaN</td>\n",
       "      <td>NaN</td>\n",
       "      <td>NaN</td>\n",
       "      <td>NaN</td>\n",
       "      <td>NaN</td>\n",
       "      <td>NaN</td>\n",
       "      <td>NaN</td>\n",
       "      <td>NaN</td>\n",
       "      <td>NaN</td>\n",
       "      <td>1.0</td>\n",
       "      <td>NaN</td>\n",
       "      <td>NaN</td>\n",
       "    </tr>\n",
       "    <tr>\n",
       "      <th>nov_rain_mm</th>\n",
       "      <td>NaN</td>\n",
       "      <td>NaN</td>\n",
       "      <td>NaN</td>\n",
       "      <td>NaN</td>\n",
       "      <td>NaN</td>\n",
       "      <td>NaN</td>\n",
       "      <td>NaN</td>\n",
       "      <td>NaN</td>\n",
       "      <td>NaN</td>\n",
       "      <td>NaN</td>\n",
       "      <td>NaN</td>\n",
       "      <td>1.0</td>\n",
       "      <td>NaN</td>\n",
       "    </tr>\n",
       "    <tr>\n",
       "      <th>profit</th>\n",
       "      <td>0.810582</td>\n",
       "      <td>NaN</td>\n",
       "      <td>NaN</td>\n",
       "      <td>NaN</td>\n",
       "      <td>NaN</td>\n",
       "      <td>0.516099</td>\n",
       "      <td>NaN</td>\n",
       "      <td>NaN</td>\n",
       "      <td>NaN</td>\n",
       "      <td>NaN</td>\n",
       "      <td>NaN</td>\n",
       "      <td>NaN</td>\n",
       "      <td>1.000000</td>\n",
       "    </tr>\n",
       "  </tbody>\n",
       "</table>\n",
       "</div>"
      ],
      "text/plain": [
       "             tot_prod_kg  jan_rain_mm  feb_rain_mm  mar_rain_mm  apr_rain_mm  \\\n",
       "tot_prod_kg     1.000000          NaN          NaN          NaN          NaN   \n",
       "jan_rain_mm          NaN          1.0          NaN          NaN          NaN   \n",
       "feb_rain_mm          NaN          NaN          1.0          NaN          NaN   \n",
       "mar_rain_mm          NaN          NaN          NaN     1.000000     0.470323   \n",
       "apr_rain_mm          NaN          NaN          NaN     0.470323     1.000000   \n",
       "may_rain_mm     0.641719          NaN          NaN          NaN          NaN   \n",
       "jun_rain_mm          NaN          NaN          NaN          NaN          NaN   \n",
       "jul_rain_mm          NaN          NaN          NaN          NaN          NaN   \n",
       "aug_rain_mm          NaN          NaN          NaN          NaN          NaN   \n",
       "sep_rain_mm          NaN          NaN          NaN          NaN          NaN   \n",
       "oct_rain_mm          NaN          NaN          NaN          NaN          NaN   \n",
       "nov_rain_mm          NaN          NaN          NaN          NaN          NaN   \n",
       "profit          0.810582          NaN          NaN          NaN          NaN   \n",
       "\n",
       "             may_rain_mm  jun_rain_mm  jul_rain_mm  aug_rain_mm  sep_rain_mm  \\\n",
       "tot_prod_kg     0.641719          NaN          NaN          NaN          NaN   \n",
       "jan_rain_mm          NaN          NaN          NaN          NaN          NaN   \n",
       "feb_rain_mm          NaN          NaN          NaN          NaN          NaN   \n",
       "mar_rain_mm          NaN          NaN          NaN          NaN          NaN   \n",
       "apr_rain_mm          NaN          NaN          NaN          NaN          NaN   \n",
       "may_rain_mm     1.000000          NaN          NaN          NaN          NaN   \n",
       "jun_rain_mm          NaN     1.000000     0.745911          NaN          NaN   \n",
       "jul_rain_mm          NaN     0.745911     1.000000          NaN          NaN   \n",
       "aug_rain_mm          NaN          NaN          NaN          1.0          NaN   \n",
       "sep_rain_mm          NaN          NaN          NaN          NaN          1.0   \n",
       "oct_rain_mm          NaN          NaN          NaN          NaN          NaN   \n",
       "nov_rain_mm          NaN          NaN          NaN          NaN          NaN   \n",
       "profit          0.516099          NaN          NaN          NaN          NaN   \n",
       "\n",
       "             oct_rain_mm  nov_rain_mm    profit  \n",
       "tot_prod_kg          NaN          NaN  0.810582  \n",
       "jan_rain_mm          NaN          NaN       NaN  \n",
       "feb_rain_mm          NaN          NaN       NaN  \n",
       "mar_rain_mm          NaN          NaN       NaN  \n",
       "apr_rain_mm          NaN          NaN       NaN  \n",
       "may_rain_mm          NaN          NaN  0.516099  \n",
       "jun_rain_mm          NaN          NaN       NaN  \n",
       "jul_rain_mm          NaN          NaN       NaN  \n",
       "aug_rain_mm          NaN          NaN       NaN  \n",
       "sep_rain_mm          NaN          NaN       NaN  \n",
       "oct_rain_mm          1.0          NaN       NaN  \n",
       "nov_rain_mm          NaN          1.0       NaN  \n",
       "profit               NaN          NaN  1.000000  "
      ]
     },
     "execution_count": 14,
     "metadata": {},
     "output_type": "execute_result"
    }
   ],
   "source": [
    "sf.corr()[sf.corr() > 0.4]"
   ]
  },
  {
   "cell_type": "markdown",
   "id": "e5730c37",
   "metadata": {},
   "source": [
    "March and April are nearly 50% correlated, and June and July are nearly 75% correlated. There are a few ways one could handle this, but I'm choosing to create new features that combine these pairs by addition. In other words, the new \"mar_apr_combined\" feature will be mar_rain_mm + apr_rain_mm, and the same for June and July. I then remove the old features."
   ]
  },
  {
   "cell_type": "code",
   "execution_count": 15,
   "id": "e1222c96",
   "metadata": {},
   "outputs": [],
   "source": [
    "sf['mar_apr_combined'] = sf['mar_rain_mm'] + sf['apr_rain_mm']\n",
    "sf['jun_jul_combined'] = sf['jun_rain_mm'] + sf['jul_rain_mm']"
   ]
  },
  {
   "cell_type": "code",
   "execution_count": 16,
   "id": "32363836",
   "metadata": {},
   "outputs": [],
   "source": [
    "X = sf.drop(['tot_prod_kg', 'profit', 'mar_rain_mm', 'apr_rain_mm', 'jun_rain_mm', 'jul_rain_mm'], axis=1)\n",
    "y = sf.tot_prod_kg"
   ]
  },
  {
   "cell_type": "markdown",
   "id": "bfcdc66f",
   "metadata": {},
   "source": [
    "We now have 9 features instead of 11."
   ]
  },
  {
   "cell_type": "code",
   "execution_count": 17,
   "id": "65e5da6d",
   "metadata": {},
   "outputs": [
    {
     "name": "stdout",
     "output_type": "stream",
     "text": [
      "shape of X: (515, 9)\n",
      "shape of y: (515,)\n"
     ]
    }
   ],
   "source": [
    "print('shape of X:', X.shape)\n",
    "print('shape of y:', y.shape)"
   ]
  },
  {
   "cell_type": "markdown",
   "id": "6372a885",
   "metadata": {},
   "source": [
    "# Linear Regression"
   ]
  },
  {
   "cell_type": "code",
   "execution_count": 38,
   "id": "6d7c2fee",
   "metadata": {},
   "outputs": [
    {
     "name": "stdout",
     "output_type": "stream",
     "text": [
      "############ Training FOLD 1 ############\n",
      "############ Training FOLD 2 ############\n",
      "############ Training FOLD 3 ############\n",
      "############ Training FOLD 4 ############\n",
      "############ Training FOLD 5 ############\n",
      "############ Training FOLD 6 ############\n",
      "############ Training FOLD 7 ############\n",
      "############ Training FOLD 8 ############\n",
      "############ Training FOLD 9 ############\n",
      "############ Training FOLD 10 ############\n"
     ]
    }
   ],
   "source": [
    "lr = LinearRegression()\n",
    "\n",
    "models_lr, oof_preds_lr, fi_lr, scores_lr = kfold_model(lr, X, y)"
   ]
  },
  {
   "cell_type": "code",
   "execution_count": 39,
   "id": "afc49bbd",
   "metadata": {},
   "outputs": [],
   "source": [
    "fi_lr = process_fi(fi_lr)"
   ]
  },
  {
   "cell_type": "code",
   "execution_count": 40,
   "id": "651345d9",
   "metadata": {},
   "outputs": [
    {
     "data": {
      "image/png": "[encoded data removed]",
      "text/plain": [
       "<Figure size 1280x960 with 1 Axes>"
      ]
     },
     "metadata": {},
     "output_type": "display_data"
    }
   ],
   "source": [
    "feature_importances_plot(fi_lr)"
   ]
  },
  {
   "cell_type": "code",
   "execution_count": 41,
   "id": "d9c36526",
   "metadata": {},
   "outputs": [
    {
     "data": {
      "text/html": [
       "<div>\n",
       "<style scoped>\n",
       "    .dataframe tbody tr th:only-of-type {\n",
       "        vertical-align: middle;\n",
       "    }\n",
       "\n",
       "    .dataframe tbody tr th {\n",
       "        vertical-align: top;\n",
       "    }\n",
       "\n",
       "    .dataframe thead th {\n",
       "        text-align: right;\n",
       "    }\n",
       "</style>\n",
       "<table border=\"1\" class=\"dataframe\">\n",
       "  <thead>\n",
       "    <tr style=\"text-align: right;\">\n",
       "      <th></th>\n",
       "      <th>data_ind</th>\n",
       "      <th>preds</th>\n",
       "      <th>y_true</th>\n",
       "    </tr>\n",
       "  </thead>\n",
       "  <tbody>\n",
       "    <tr>\n",
       "      <th>0</th>\n",
       "      <td>13</td>\n",
       "      <td>3888.633547</td>\n",
       "      <td>5340.000000</td>\n",
       "    </tr>\n",
       "    <tr>\n",
       "      <th>1</th>\n",
       "      <td>25</td>\n",
       "      <td>7471.091036</td>\n",
       "      <td>8420.602539</td>\n",
       "    </tr>\n",
       "    <tr>\n",
       "      <th>2</th>\n",
       "      <td>35</td>\n",
       "      <td>3118.282205</td>\n",
       "      <td>3768.430908</td>\n",
       "    </tr>\n",
       "    <tr>\n",
       "      <th>3</th>\n",
       "      <td>45</td>\n",
       "      <td>3899.590734</td>\n",
       "      <td>2548.221436</td>\n",
       "    </tr>\n",
       "    <tr>\n",
       "      <th>4</th>\n",
       "      <td>46</td>\n",
       "      <td>5964.881592</td>\n",
       "      <td>4209.190430</td>\n",
       "    </tr>\n",
       "    <tr>\n",
       "      <th>...</th>\n",
       "      <td>...</td>\n",
       "      <td>...</td>\n",
       "      <td>...</td>\n",
       "    </tr>\n",
       "    <tr>\n",
       "      <th>510</th>\n",
       "      <td>502</td>\n",
       "      <td>1173.563569</td>\n",
       "      <td>1307.285889</td>\n",
       "    </tr>\n",
       "    <tr>\n",
       "      <th>511</th>\n",
       "      <td>504</td>\n",
       "      <td>864.231863</td>\n",
       "      <td>744.236877</td>\n",
       "    </tr>\n",
       "    <tr>\n",
       "      <th>512</th>\n",
       "      <td>507</td>\n",
       "      <td>5280.084155</td>\n",
       "      <td>6145.133789</td>\n",
       "    </tr>\n",
       "    <tr>\n",
       "      <th>513</th>\n",
       "      <td>508</td>\n",
       "      <td>4731.593193</td>\n",
       "      <td>5776.019531</td>\n",
       "    </tr>\n",
       "    <tr>\n",
       "      <th>514</th>\n",
       "      <td>511</td>\n",
       "      <td>1740.938759</td>\n",
       "      <td>2638.487793</td>\n",
       "    </tr>\n",
       "  </tbody>\n",
       "</table>\n",
       "<p>515 rows × 3 columns</p>\n",
       "</div>"
      ],
      "text/plain": [
       "     data_ind        preds       y_true\n",
       "0          13  3888.633547  5340.000000\n",
       "1          25  7471.091036  8420.602539\n",
       "2          35  3118.282205  3768.430908\n",
       "3          45  3899.590734  2548.221436\n",
       "4          46  5964.881592  4209.190430\n",
       "..        ...          ...          ...\n",
       "510       502  1173.563569  1307.285889\n",
       "511       504   864.231863   744.236877\n",
       "512       507  5280.084155  6145.133789\n",
       "513       508  4731.593193  5776.019531\n",
       "514       511  1740.938759  2638.487793\n",
       "\n",
       "[515 rows x 3 columns]"
      ]
     },
     "execution_count": 41,
     "metadata": {},
     "output_type": "execute_result"
    }
   ],
   "source": [
    "oof_preds_lr"
   ]
  },
  {
   "cell_type": "code",
   "execution_count": 47,
   "id": "feff3c13",
   "metadata": {},
   "outputs": [
    {
     "data": {
      "text/plain": [
       "1115.7357143107552"
      ]
     },
     "execution_count": 47,
     "metadata": {},
     "output_type": "execute_result"
    }
   ],
   "source": [
    "np.sqrt(np.mean(scores_lr))"
   ]
  },
  {
   "cell_type": "code",
   "execution_count": 48,
   "id": "99af2b06",
   "metadata": {},
   "outputs": [
    {
     "name": "stdout",
     "output_type": "stream",
     "text": [
      "RMSE: 1115.5765578964993\n",
      "MAE: 890.8668152812362\n",
      "median y: 3664.5198\n",
      "R2: 0.6523761579266063\n"
     ]
    }
   ],
   "source": [
    "metrics_lr = show_metrics(oof_preds_lr, model_name='lr')"
   ]
  },
  {
   "cell_type": "code",
   "execution_count": 49,
   "id": "197949c2",
   "metadata": {},
   "outputs": [
    {
     "data": {
      "text/html": [
       "<div>\n",
       "<style scoped>\n",
       "    .dataframe tbody tr th:only-of-type {\n",
       "        vertical-align: middle;\n",
       "    }\n",
       "\n",
       "    .dataframe tbody tr th {\n",
       "        vertical-align: top;\n",
       "    }\n",
       "\n",
       "    .dataframe thead th {\n",
       "        text-align: right;\n",
       "    }\n",
       "</style>\n",
       "<table border=\"1\" class=\"dataframe\">\n",
       "  <thead>\n",
       "    <tr style=\"text-align: right;\">\n",
       "      <th></th>\n",
       "      <th>lr</th>\n",
       "    </tr>\n",
       "  </thead>\n",
       "  <tbody>\n",
       "    <tr>\n",
       "      <th>rmse</th>\n",
       "      <td>1115.576558</td>\n",
       "    </tr>\n",
       "    <tr>\n",
       "      <th>mae</th>\n",
       "      <td>890.866815</td>\n",
       "    </tr>\n",
       "    <tr>\n",
       "      <th>median_y</th>\n",
       "      <td>3664.519775</td>\n",
       "    </tr>\n",
       "    <tr>\n",
       "      <th>r2</th>\n",
       "      <td>0.652376</td>\n",
       "    </tr>\n",
       "  </tbody>\n",
       "</table>\n",
       "</div>"
      ],
      "text/plain": [
       "                   lr\n",
       "rmse      1115.576558\n",
       "mae        890.866815\n",
       "median_y  3664.519775\n",
       "r2           0.652376"
      ]
     },
     "execution_count": 49,
     "metadata": {},
     "output_type": "execute_result"
    }
   ],
   "source": [
    "metrics_lr"
   ]
  },
  {
   "cell_type": "markdown",
   "id": "0b34624d",
   "metadata": {},
   "source": [
    "# Results Linear Regression\n",
    "\n",
    "K-fold cross validation with a simple linear regression model fit to simulated data shows an $R^2$ of 0.65, meaning 65% of the variance in production is explained by this model. The RMSE and MAE are a third or less than the median production value, which is a large reduction in uncertainty over my models from last year. This is due to the fact that we have a lot more data to work with when we simulate data instead of being restricted to 15 data points. This will be our baseline model and I'll see if we can get better performance with other models. I will start with LightGBM and I will perform hyperparameter optimization with Optuna."
   ]
  },
  {
   "cell_type": "code",
   "execution_count": 50,
   "id": "96c659a5",
   "metadata": {},
   "outputs": [],
   "source": [
    "def objective(trial):\n",
    "    X_train, X_test, y_train, y_test = train_test_split(X, y, test_size=0.2, random_state=rng.integers(100, 10_000))\n",
    "    dtrain = lgb.Dataset(X_train, label=y_train)\n",
    "    \n",
    "    param = {\n",
    "        'objective': 'regression',\n",
    "        'metric': 'mse',\n",
    "        'n_estimators': 1000,\n",
    "        'verbose': -1,\n",
    "        'reg_alpha': trial.suggest_loguniform('reg_alpha', 1e-3, 10.0),\n",
    "        'reg_lambda': trial.suggest_loguniform('reg_lambda', 1e-3, 10.0),\n",
    "        'learning_rate': trial.suggest_categorical('learning_rate', [0.006, 0.008, 0.01, 0.014, 0.017, 0.02]),\n",
    "        'max_depth': trial.suggest_categorical('max_depth', [10, 20, 100]),\n",
    "        'num_leaves' : trial.suggest_int('num_leaves', 2, 12),\n",
    "        'min_child_samples': trial.suggest_int('min_child_samples', 1, 50),\n",
    "    }\n",
    "    \n",
    "    gbm = lgb.train(param, dtrain)\n",
    "    preds = gbm.predict(X_test)\n",
    "    \n",
    "    mse_score = mean_squared_error(y_test, preds)\n",
    "    \n",
    "    return mse_score"
   ]
  },
  {
   "cell_type": "code",
   "execution_count": 27,
   "id": "af000673",
   "metadata": {
    "scrolled": true
   },
   "outputs": [
    {
     "name": "stderr",
     "output_type": "stream",
     "text": [
      "\u001b[32m[I 2023-03-07 12:43:03,312]\u001b[0m A new study created in memory with name: no-name-f34e8ffd-36a8-423d-8360-c67f6617fb6d\u001b[0m\n",
      "\u001b[32m[I 2023-03-07 12:43:03,536]\u001b[0m Trial 0 finished with value: 1407696.688828968 and parameters: {'reg_alpha': 7.291621827374084, 'reg_lambda': 0.24477138553667005, 'learning_rate': 0.014, 'max_depth': 100, 'num_leaves': 5, 'min_child_samples': 17}. Best is trial 0 with value: 1407696.688828968.\u001b[0m\n",
      "\u001b[32m[I 2023-03-07 12:43:03,675]\u001b[0m Trial 1 finished with value: 1524577.301314293 and parameters: {'reg_alpha': 1.2513576249490277, 'reg_lambda': 0.002637561111862704, 'learning_rate': 0.014, 'max_depth': 100, 'num_leaves': 2, 'min_child_samples': 19}. Best is trial 0 with value: 1407696.688828968.\u001b[0m\n",
      "\u001b[32m[I 2023-03-07 12:43:03,936]\u001b[0m Trial 2 finished with value: 1741918.1914631722 and parameters: {'reg_alpha': 0.48207325043355226, 'reg_lambda': 1.036777622395103, 'learning_rate': 0.017, 'max_depth': 10, 'num_leaves': 7, 'min_child_samples': 29}. Best is trial 0 with value: 1407696.688828968.\u001b[0m\n",
      "\u001b[32m[I 2023-03-07 12:43:04,116]\u001b[0m Trial 3 finished with value: 2082819.3084418213 and parameters: {'reg_alpha': 0.08609709261228765, 'reg_lambda': 0.008926913954424059, 'learning_rate': 0.02, 'max_depth': 20, 'num_leaves': 5, 'min_child_samples': 23}. Best is trial 0 with value: 1407696.688828968.\u001b[0m\n",
      "\u001b[32m[I 2023-03-07 12:43:04,277]\u001b[0m Trial 4 finished with value: 1333343.3271005894 and parameters: {'reg_alpha': 0.060311084398642426, 'reg_lambda': 2.9009118546548898, 'learning_rate': 0.006, 'max_depth': 20, 'num_leaves': 4, 'min_child_samples': 20}. Best is trial 4 with value: 1333343.3271005894.\u001b[0m\n",
      "\u001b[32m[I 2023-03-07 12:43:04,515]\u001b[0m Trial 5 finished with value: 1553738.666190046 and parameters: {'reg_alpha': 0.012910014175725223, 'reg_lambda': 0.009023415712418596, 'learning_rate': 0.01, 'max_depth': 10, 'num_leaves': 8, 'min_child_samples': 22}. Best is trial 4 with value: 1333343.3271005894.\u001b[0m\n",
      "\u001b[32m[I 2023-03-07 12:43:04,768]\u001b[0m Trial 6 finished with value: 1360383.0095477882 and parameters: {'reg_alpha': 0.03839402308376653, 'reg_lambda': 0.04335672371208087, 'learning_rate': 0.014, 'max_depth': 100, 'num_leaves': 10, 'min_child_samples': 37}. Best is trial 4 with value: 1333343.3271005894.\u001b[0m\n",
      "\u001b[32m[I 2023-03-07 12:43:05,042]\u001b[0m Trial 7 finished with value: 1732699.699206706 and parameters: {'reg_alpha': 0.028385143283944755, 'reg_lambda': 0.0785563186747381, 'learning_rate': 0.01, 'max_depth': 100, 'num_leaves': 9, 'min_child_samples': 7}. Best is trial 4 with value: 1333343.3271005894.\u001b[0m\n",
      "\u001b[32m[I 2023-03-07 12:43:05,256]\u001b[0m Trial 8 finished with value: 1712610.6281930234 and parameters: {'reg_alpha': 0.024989988814983505, 'reg_lambda': 3.8461309671625394, 'learning_rate': 0.01, 'max_depth': 20, 'num_leaves': 7, 'min_child_samples': 3}. Best is trial 4 with value: 1333343.3271005894.\u001b[0m\n",
      "\u001b[32m[I 2023-03-07 12:43:05,534]\u001b[0m Trial 9 finished with value: 1696183.4912102255 and parameters: {'reg_alpha': 0.0019374621289588044, 'reg_lambda': 0.09986242016124527, 'learning_rate': 0.014, 'max_depth': 10, 'num_leaves': 10, 'min_child_samples': 10}. Best is trial 4 with value: 1333343.3271005894.\u001b[0m\n",
      "\u001b[32m[I 2023-03-07 12:43:05,635]\u001b[0m Trial 10 finished with value: 1603898.6312897804 and parameters: {'reg_alpha': 0.29903718120975936, 'reg_lambda': 7.301088067828611, 'learning_rate': 0.006, 'max_depth': 20, 'num_leaves': 2, 'min_child_samples': 50}. Best is trial 4 with value: 1333343.3271005894.\u001b[0m\n",
      "\u001b[32m[I 2023-03-07 12:43:05,860]\u001b[0m Trial 11 finished with value: 1626671.7322412159 and parameters: {'reg_alpha': 0.006064654904461876, 'reg_lambda': 0.6688958611396383, 'learning_rate': 0.006, 'max_depth': 100, 'num_leaves': 12, 'min_child_samples': 39}. Best is trial 4 with value: 1333343.3271005894.\u001b[0m\n",
      "\u001b[32m[I 2023-03-07 12:43:06,016]\u001b[0m Trial 12 finished with value: 1239660.5975395462 and parameters: {'reg_alpha': 0.0778020922349173, 'reg_lambda': 0.03637511618024792, 'learning_rate': 0.008, 'max_depth': 20, 'num_leaves': 4, 'min_child_samples': 35}. Best is trial 12 with value: 1239660.5975395462.\u001b[0m\n",
      "\u001b[32m[I 2023-03-07 12:43:06,166]\u001b[0m Trial 13 finished with value: 1418339.6760582915 and parameters: {'reg_alpha': 0.11730332052032723, 'reg_lambda': 1.564483903421017, 'learning_rate': 0.008, 'max_depth': 20, 'num_leaves': 4, 'min_child_samples': 30}. Best is trial 12 with value: 1239660.5975395462.\u001b[0m\n",
      "\u001b[32m[I 2023-03-07 12:43:06,328]\u001b[0m Trial 14 finished with value: 1240704.4991427287 and parameters: {'reg_alpha': 0.004728800835782186, 'reg_lambda': 0.2890014597235764, 'learning_rate': 0.008, 'max_depth': 20, 'num_leaves': 4, 'min_child_samples': 38}. Best is trial 12 with value: 1239660.5975395462.\u001b[0m\n",
      "\u001b[32m[I 2023-03-07 12:43:06,467]\u001b[0m Trial 15 finished with value: 1939273.0995255704 and parameters: {'reg_alpha': 0.0015830808198489935, 'reg_lambda': 0.3968642090044417, 'learning_rate': 0.008, 'max_depth': 20, 'num_leaves': 3, 'min_child_samples': 43}. Best is trial 12 with value: 1239660.5975395462.\u001b[0m\n",
      "\u001b[32m[I 2023-03-07 12:43:06,686]\u001b[0m Trial 16 finished with value: 1712101.0345894424 and parameters: {'reg_alpha': 0.006125980709534408, 'reg_lambda': 0.24473155861069498, 'learning_rate': 0.008, 'max_depth': 20, 'num_leaves': 6, 'min_child_samples': 34}. Best is trial 12 with value: 1239660.5975395462.\u001b[0m\n",
      "\u001b[32m[I 2023-03-07 12:43:06,834]\u001b[0m Trial 17 finished with value: 1304909.1496513996 and parameters: {'reg_alpha': 0.005418209574956154, 'reg_lambda': 0.0465596020121838, 'learning_rate': 0.008, 'max_depth': 20, 'num_leaves': 4, 'min_child_samples': 49}. Best is trial 12 with value: 1239660.5975395462.\u001b[0m\n",
      "\u001b[32m[I 2023-03-07 12:43:07,013]\u001b[0m Trial 18 finished with value: 1765149.0191155246 and parameters: {'reg_alpha': 0.0011326564434403397, 'reg_lambda': 0.017396691592439534, 'learning_rate': 0.008, 'max_depth': 20, 'num_leaves': 6, 'min_child_samples': 43}. Best is trial 12 with value: 1239660.5975395462.\u001b[0m\n",
      "\u001b[32m[I 2023-03-07 12:43:07,134]\u001b[0m Trial 19 finished with value: 1595149.9240927817 and parameters: {'reg_alpha': 0.012720492832788314, 'reg_lambda': 0.1589344161275083, 'learning_rate': 0.02, 'max_depth': 20, 'num_leaves': 3, 'min_child_samples': 30}. Best is trial 12 with value: 1239660.5975395462.\u001b[0m\n",
      "\u001b[32m[I 2023-03-07 12:43:07,323]\u001b[0m Trial 20 finished with value: 1876777.1063621596 and parameters: {'reg_alpha': 0.1580038640993181, 'reg_lambda': 0.5344228226299685, 'learning_rate': 0.017, 'max_depth': 10, 'num_leaves': 5, 'min_child_samples': 44}. Best is trial 12 with value: 1239660.5975395462.\u001b[0m\n",
      "\u001b[32m[I 2023-03-07 12:43:07,478]\u001b[0m Trial 21 finished with value: 1482635.4016059767 and parameters: {'reg_alpha': 0.0031254033797834084, 'reg_lambda': 0.038460033114143026, 'learning_rate': 0.008, 'max_depth': 20, 'num_leaves': 4, 'min_child_samples': 49}. Best is trial 12 with value: 1239660.5975395462.\u001b[0m\n",
      "\u001b[32m[I 2023-03-07 12:43:07,621]\u001b[0m Trial 22 finished with value: 1792373.205821766 and parameters: {'reg_alpha': 0.005178325002584924, 'reg_lambda': 0.060876431115336506, 'learning_rate': 0.008, 'max_depth': 20, 'num_leaves': 3, 'min_child_samples': 38}. Best is trial 12 with value: 1239660.5975395462.\u001b[0m\n",
      "\u001b[32m[I 2023-03-07 12:43:07,810]\u001b[0m Trial 23 finished with value: 1590947.7307083854 and parameters: {'reg_alpha': 0.012011419755564955, 'reg_lambda': 0.13333647417507488, 'learning_rate': 0.008, 'max_depth': 20, 'num_leaves': 6, 'min_child_samples': 46}. Best is trial 12 with value: 1239660.5975395462.\u001b[0m\n",
      "\u001b[32m[I 2023-03-07 12:43:07,930]\u001b[0m Trial 24 finished with value: 1306750.8397333391 and parameters: {'reg_alpha': 0.0010046539751129536, 'reg_lambda': 0.029148439328443014, 'learning_rate': 0.008, 'max_depth': 20, 'num_leaves': 2, 'min_child_samples': 33}. Best is trial 12 with value: 1239660.5975395462.\u001b[0m\n",
      "\u001b[32m[I 2023-03-07 12:43:08,079]\u001b[0m Trial 25 finished with value: 1564636.4582546914 and parameters: {'reg_alpha': 0.003012718077901315, 'reg_lambda': 0.23163303509178457, 'learning_rate': 0.008, 'max_depth': 20, 'num_leaves': 4, 'min_child_samples': 40}. Best is trial 12 with value: 1239660.5975395462.\u001b[0m\n",
      "\u001b[32m[I 2023-03-07 12:43:08,272]\u001b[0m Trial 26 finished with value: 1493044.6575106387 and parameters: {'reg_alpha': 0.020268487776185014, 'reg_lambda': 0.06498617201703895, 'learning_rate': 0.008, 'max_depth': 20, 'num_leaves': 5, 'min_child_samples': 35}. Best is trial 12 with value: 1239660.5975395462.\u001b[0m\n",
      "\u001b[32m[I 2023-03-07 12:43:08,396]\u001b[0m Trial 27 finished with value: 1525060.37200091 and parameters: {'reg_alpha': 0.038469467791817084, 'reg_lambda': 0.019668660455641526, 'learning_rate': 0.008, 'max_depth': 20, 'num_leaves': 3, 'min_child_samples': 27}. Best is trial 12 with value: 1239660.5975395462.\u001b[0m\n",
      "\u001b[32m[I 2023-03-07 12:43:08,594]\u001b[0m Trial 28 finished with value: 1549997.2109784912 and parameters: {'reg_alpha': 0.0030915080622128293, 'reg_lambda': 0.1374929649610149, 'learning_rate': 0.017, 'max_depth': 10, 'num_leaves': 6, 'min_child_samples': 47}. Best is trial 12 with value: 1239660.5975395462.\u001b[0m\n",
      "\u001b[32m[I 2023-03-07 12:43:08,828]\u001b[0m Trial 29 finished with value: 1853190.8380450644 and parameters: {'reg_alpha': 0.00948054313554359, 'reg_lambda': 0.29242842637470234, 'learning_rate': 0.02, 'max_depth': 20, 'num_leaves': 5, 'min_child_samples': 14}. Best is trial 12 with value: 1239660.5975395462.\u001b[0m\n",
      "\u001b[32m[I 2023-03-07 12:43:08,992]\u001b[0m Trial 30 finished with value: 1660768.8130069077 and parameters: {'reg_alpha': 8.334059554264256, 'reg_lambda': 0.11227630733357959, 'learning_rate': 0.008, 'max_depth': 100, 'num_leaves': 4, 'min_child_samples': 42}. Best is trial 12 with value: 1239660.5975395462.\u001b[0m\n",
      "\u001b[32m[I 2023-03-07 12:43:09,103]\u001b[0m Trial 31 finished with value: 1644143.6754479585 and parameters: {'reg_alpha': 0.0024650006530837743, 'reg_lambda': 0.02979700393460168, 'learning_rate': 0.008, 'max_depth': 20, 'num_leaves': 2, 'min_child_samples': 33}. Best is trial 12 with value: 1239660.5975395462.\u001b[0m\n",
      "\u001b[32m[I 2023-03-07 12:43:09,204]\u001b[0m Trial 32 finished with value: 1867238.392600119 and parameters: {'reg_alpha': 0.0010112029075868248, 'reg_lambda': 0.021060261294520443, 'learning_rate': 0.008, 'max_depth': 20, 'num_leaves': 2, 'min_child_samples': 32}. Best is trial 12 with value: 1239660.5975395462.\u001b[0m\n",
      "\u001b[32m[I 2023-03-07 12:43:09,337]\u001b[0m Trial 33 finished with value: 1626073.7945259144 and parameters: {'reg_alpha': 0.0014196426380120722, 'reg_lambda': 0.001616992065214355, 'learning_rate': 0.008, 'max_depth': 20, 'num_leaves': 3, 'min_child_samples': 36}. Best is trial 12 with value: 1239660.5975395462.\u001b[0m\n",
      "\u001b[32m[I 2023-03-07 12:43:09,439]\u001b[0m Trial 34 finished with value: 1519566.0066947325 and parameters: {'reg_alpha': 3.8350949823653977, 'reg_lambda': 0.010239440118751376, 'learning_rate': 0.014, 'max_depth': 20, 'num_leaves': 2, 'min_child_samples': 25}. Best is trial 12 with value: 1239660.5975395462.\u001b[0m\n",
      "\u001b[32m[I 2023-03-07 12:43:09,567]\u001b[0m Trial 35 finished with value: 1717677.5335123278 and parameters: {'reg_alpha': 0.004554933287149893, 'reg_lambda': 0.004405328210152198, 'learning_rate': 0.008, 'max_depth': 20, 'num_leaves': 3, 'min_child_samples': 40}. Best is trial 12 with value: 1239660.5975395462.\u001b[0m\n",
      "\u001b[32m[I 2023-03-07 12:43:09,794]\u001b[0m Trial 36 finished with value: 1703620.3270064536 and parameters: {'reg_alpha': 0.0019127380048542088, 'reg_lambda': 0.04120198202779477, 'learning_rate': 0.02, 'max_depth': 20, 'num_leaves': 5, 'min_child_samples': 29}. Best is trial 12 with value: 1239660.5975395462.\u001b[0m\n",
      "\u001b[32m[I 2023-03-07 12:43:09,941]\u001b[0m Trial 37 finished with value: 1305373.8146378936 and parameters: {'reg_alpha': 0.008074719816685871, 'reg_lambda': 0.0694925337878209, 'learning_rate': 0.008, 'max_depth': 10, 'num_leaves': 4, 'min_child_samples': 26}. Best is trial 12 with value: 1239660.5975395462.\u001b[0m\n",
      "\u001b[32m[I 2023-03-07 12:43:10,150]\u001b[0m Trial 38 finished with value: 1656296.8287797316 and parameters: {'reg_alpha': 0.009108588174863015, 'reg_lambda': 0.2100987543116698, 'learning_rate': 0.017, 'max_depth': 10, 'num_leaves': 7, 'min_child_samples': 17}. Best is trial 12 with value: 1239660.5975395462.\u001b[0m\n",
      "\u001b[32m[I 2023-03-07 12:43:10,380]\u001b[0m Trial 39 finished with value: 1662542.817309871 and parameters: {'reg_alpha': 0.059256413251984406, 'reg_lambda': 0.06499025580502099, 'learning_rate': 0.01, 'max_depth': 10, 'num_leaves': 8, 'min_child_samples': 23}. Best is trial 12 with value: 1239660.5975395462.\u001b[0m\n",
      "\u001b[32m[I 2023-03-07 12:43:10,529]\u001b[0m Trial 40 finished with value: 1343044.9462317636 and parameters: {'reg_alpha': 0.008304937717371185, 'reg_lambda': 0.08631953366820436, 'learning_rate': 0.006, 'max_depth': 10, 'num_leaves': 4, 'min_child_samples': 25}. Best is trial 12 with value: 1239660.5975395462.\u001b[0m\n",
      "\u001b[32m[I 2023-03-07 12:43:10,679]\u001b[0m Trial 41 finished with value: 1579693.2335723015 and parameters: {'reg_alpha': 0.01822801766595581, 'reg_lambda': 0.034002851348813035, 'learning_rate': 0.008, 'max_depth': 10, 'num_leaves': 4, 'min_child_samples': 27}. Best is trial 12 with value: 1239660.5975395462.\u001b[0m\n",
      "\u001b[32m[I 2023-03-07 12:43:10,779]\u001b[0m Trial 42 finished with value: 1591761.0303675306 and parameters: {'reg_alpha': 0.003973086141952689, 'reg_lambda': 0.058627940892542085, 'learning_rate': 0.008, 'max_depth': 100, 'num_leaves': 2, 'min_child_samples': 32}. Best is trial 12 with value: 1239660.5975395462.\u001b[0m\n",
      "\u001b[32m[I 2023-03-07 12:43:10,954]\u001b[0m Trial 43 finished with value: 1215599.1303704483 and parameters: {'reg_alpha': 0.0020647355137916245, 'reg_lambda': 0.012340654886668231, 'learning_rate': 0.008, 'max_depth': 10, 'num_leaves': 5, 'min_child_samples': 19}. Best is trial 43 with value: 1215599.1303704483.\u001b[0m\n",
      "\u001b[32m[I 2023-03-07 12:43:11,125]\u001b[0m Trial 44 finished with value: 1540254.2460257625 and parameters: {'reg_alpha': 0.006410560113629948, 'reg_lambda': 0.01195735529036513, 'learning_rate': 0.014, 'max_depth': 10, 'num_leaves': 5, 'min_child_samples': 19}. Best is trial 43 with value: 1215599.1303704483.\u001b[0m\n",
      "\u001b[32m[I 2023-03-07 12:43:11,300]\u001b[0m Trial 45 finished with value: 1515528.707899114 and parameters: {'reg_alpha': 0.0023170926187749837, 'reg_lambda': 0.0057743569340500565, 'learning_rate': 0.01, 'max_depth': 10, 'num_leaves': 5, 'min_child_samples': 15}. Best is trial 43 with value: 1215599.1303704483.\u001b[0m\n",
      "\u001b[32m[I 2023-03-07 12:43:11,531]\u001b[0m Trial 46 finished with value: 1492796.5344087915 and parameters: {'reg_alpha': 0.01598019640427475, 'reg_lambda': 0.01346323727360023, 'learning_rate': 0.008, 'max_depth': 10, 'num_leaves': 6, 'min_child_samples': 22}. Best is trial 43 with value: 1215599.1303704483.\u001b[0m\n",
      "\u001b[32m[I 2023-03-07 12:43:11,692]\u001b[0m Trial 47 finished with value: 1504782.0571591223 and parameters: {'reg_alpha': 0.004016116549589214, 'reg_lambda': 0.006840257988270247, 'learning_rate': 0.006, 'max_depth': 10, 'num_leaves': 4, 'min_child_samples': 12}. Best is trial 43 with value: 1215599.1303704483.\u001b[0m\n",
      "\u001b[32m[I 2023-03-07 12:43:12,040]\u001b[0m Trial 48 finished with value: 1799314.9686443498 and parameters: {'reg_alpha': 0.0019378442739000792, 'reg_lambda': 0.023441977762666426, 'learning_rate': 0.008, 'max_depth': 100, 'num_leaves': 12, 'min_child_samples': 6}. Best is trial 43 with value: 1215599.1303704483.\u001b[0m\n",
      "\u001b[32m[I 2023-03-07 12:43:12,255]\u001b[0m Trial 49 finished with value: 1406615.8908315662 and parameters: {'reg_alpha': 0.00922554634303903, 'reg_lambda': 0.05001995858564094, 'learning_rate': 0.008, 'max_depth': 10, 'num_leaves': 7, 'min_child_samples': 20}. Best is trial 43 with value: 1215599.1303704483.\u001b[0m\n",
      "\u001b[32m[I 2023-03-07 12:43:12,383]\u001b[0m Trial 50 finished with value: 1599214.990718851 and parameters: {'reg_alpha': 0.028385649953015082, 'reg_lambda': 0.09235566950097815, 'learning_rate': 0.014, 'max_depth': 10, 'num_leaves': 3, 'min_child_samples': 37}. Best is trial 43 with value: 1215599.1303704483.\u001b[0m\n",
      "\u001b[32m[I 2023-03-07 12:43:12,541]\u001b[0m Trial 51 finished with value: 1366787.1881754817 and parameters: {'reg_alpha': 0.0015992648104215374, 'reg_lambda': 0.02784882956194347, 'learning_rate': 0.008, 'max_depth': 20, 'num_leaves': 4, 'min_child_samples': 28}. Best is trial 43 with value: 1215599.1303704483.\u001b[0m\n",
      "\u001b[32m[I 2023-03-07 12:43:12,686]\u001b[0m Trial 52 finished with value: 1529398.4535402854 and parameters: {'reg_alpha': 0.0012422869982215011, 'reg_lambda': 0.042227038413256035, 'learning_rate': 0.008, 'max_depth': 20, 'num_leaves': 3, 'min_child_samples': 30}. Best is trial 43 with value: 1215599.1303704483.\u001b[0m\n",
      "\u001b[32m[I 2023-03-07 12:43:12,867]\u001b[0m Trial 53 finished with value: 1381566.1780662343 and parameters: {'reg_alpha': 0.006520918891972049, 'reg_lambda': 0.017496588454350717, 'learning_rate': 0.008, 'max_depth': 20, 'num_leaves': 5, 'min_child_samples': 41}. Best is trial 43 with value: 1215599.1303704483.\u001b[0m\n",
      "\u001b[32m[I 2023-03-07 12:43:13,066]\u001b[0m Trial 54 finished with value: 1407235.1592264262 and parameters: {'reg_alpha': 0.002607048491321389, 'reg_lambda': 0.030037560824314132, 'learning_rate': 0.008, 'max_depth': 20, 'num_leaves': 11, 'min_child_samples': 45}. Best is trial 43 with value: 1215599.1303704483.\u001b[0m\n",
      "\u001b[32m[I 2023-03-07 12:43:13,295]\u001b[0m Trial 55 finished with value: 1721632.700515538 and parameters: {'reg_alpha': 0.001116996066389773, 'reg_lambda': 0.014626943921821234, 'learning_rate': 0.008, 'max_depth': 100, 'num_leaves': 8, 'min_child_samples': 34}. Best is trial 43 with value: 1215599.1303704483.\u001b[0m\n",
      "\u001b[32m[I 2023-03-07 12:43:13,517]\u001b[0m Trial 56 finished with value: 1502776.8132748986 and parameters: {'reg_alpha': 0.0019231053466718484, 'reg_lambda': 0.17430687973418427, 'learning_rate': 0.02, 'max_depth': 20, 'num_leaves': 6, 'min_child_samples': 38}. Best is trial 43 with value: 1215599.1303704483.\u001b[0m\n",
      "\u001b[32m[I 2023-03-07 12:43:13,650]\u001b[0m Trial 57 finished with value: 1229879.3357413483 and parameters: {'reg_alpha': 0.004631857439953365, 'reg_lambda': 0.09146067581831135, 'learning_rate': 0.017, 'max_depth': 10, 'num_leaves': 3, 'min_child_samples': 24}. Best is trial 43 with value: 1215599.1303704483.\u001b[0m\n",
      "\u001b[32m[I 2023-03-07 12:43:13,781]\u001b[0m Trial 58 finished with value: 1699286.133320533 and parameters: {'reg_alpha': 0.00408374734304379, 'reg_lambda': 0.10081792697853323, 'learning_rate': 0.017, 'max_depth': 10, 'num_leaves': 3, 'min_child_samples': 17}. Best is trial 43 with value: 1215599.1303704483.\u001b[0m\n",
      "\u001b[32m[I 2023-03-07 12:43:13,934]\u001b[0m Trial 59 finished with value: 1546414.3487033425 and parameters: {'reg_alpha': 0.013193889485284641, 'reg_lambda': 0.3226665063983015, 'learning_rate': 0.017, 'max_depth': 10, 'num_leaves': 4, 'min_child_samples': 22}. Best is trial 43 with value: 1215599.1303704483.\u001b[0m\n",
      "\u001b[32m[I 2023-03-07 12:43:14,081]\u001b[0m Trial 60 finished with value: 1454756.761766357 and parameters: {'reg_alpha': 0.005582126351878248, 'reg_lambda': 0.07458458273443913, 'learning_rate': 0.017, 'max_depth': 10, 'num_leaves': 4, 'min_child_samples': 49}. Best is trial 43 with value: 1215599.1303704483.\u001b[0m\n",
      "\u001b[32m[I 2023-03-07 12:43:14,204]\u001b[0m Trial 61 finished with value: 1479208.8030112602 and parameters: {'reg_alpha': 0.003212467149205939, 'reg_lambda': 0.1303687802659796, 'learning_rate': 0.017, 'max_depth': 10, 'num_leaves': 3, 'min_child_samples': 24}. Best is trial 43 with value: 1215599.1303704483.\u001b[0m\n",
      "\u001b[32m[I 2023-03-07 12:43:14,302]\u001b[0m Trial 62 finished with value: 1496126.9223309674 and parameters: {'reg_alpha': 0.003999931052449137, 'reg_lambda': 0.05070078603415217, 'learning_rate': 0.008, 'max_depth': 20, 'num_leaves': 2, 'min_child_samples': 31}. Best is trial 43 with value: 1215599.1303704483.\u001b[0m\n",
      "\u001b[32m[I 2023-03-07 12:43:14,425]\u001b[0m Trial 63 finished with value: 1533063.2891863128 and parameters: {'reg_alpha': 0.007439671390302337, 'reg_lambda': 0.024820544153997343, 'learning_rate': 0.008, 'max_depth': 10, 'num_leaves': 3, 'min_child_samples': 26}. Best is trial 43 with value: 1215599.1303704483.\u001b[0m\n",
      "\u001b[32m[I 2023-03-07 12:43:14,527]\u001b[0m Trial 64 finished with value: 1268137.9193068312 and parameters: {'reg_alpha': 0.0015953809899403625, 'reg_lambda': 0.18571184485474843, 'learning_rate': 0.01, 'max_depth': 20, 'num_leaves': 2, 'min_child_samples': 35}. Best is trial 43 with value: 1215599.1303704483.\u001b[0m\n",
      "\u001b[32m[I 2023-03-07 12:43:14,745]\u001b[0m Trial 65 finished with value: 1616199.3162541518 and parameters: {'reg_alpha': 0.005061437600804026, 'reg_lambda': 0.17241090114691243, 'learning_rate': 0.006, 'max_depth': 20, 'num_leaves': 5, 'min_child_samples': 18}. Best is trial 43 with value: 1215599.1303704483.\u001b[0m\n",
      "\u001b[32m[I 2023-03-07 12:43:14,921]\u001b[0m Trial 66 finished with value: 1707288.1092399629 and parameters: {'reg_alpha': 0.011440621071421742, 'reg_lambda': 0.4908665815504723, 'learning_rate': 0.01, 'max_depth': 20, 'num_leaves': 4, 'min_child_samples': 21}. Best is trial 43 with value: 1215599.1303704483.\u001b[0m\n",
      "\u001b[32m[I 2023-03-07 12:43:15,078]\u001b[0m Trial 67 finished with value: 1424197.0528910402 and parameters: {'reg_alpha': 0.0032380358309774017, 'reg_lambda': 0.11726070200079228, 'learning_rate': 0.01, 'max_depth': 10, 'num_leaves': 4, 'min_child_samples': 47}. Best is trial 43 with value: 1215599.1303704483.\u001b[0m\n",
      "\u001b[32m[I 2023-03-07 12:43:15,205]\u001b[0m Trial 68 finished with value: 1323935.5196687554 and parameters: {'reg_alpha': 0.0016638062623104122, 'reg_lambda': 0.20684428181131848, 'learning_rate': 0.01, 'max_depth': 20, 'num_leaves': 3, 'min_child_samples': 15}. Best is trial 43 with value: 1215599.1303704483.\u001b[0m\n",
      "\u001b[32m[I 2023-03-07 12:43:15,314]\u001b[0m Trial 69 finished with value: 1668624.207916865 and parameters: {'reg_alpha': 0.0023898714263874275, 'reg_lambda': 0.07253832646044778, 'learning_rate': 0.01, 'max_depth': 100, 'num_leaves': 2, 'min_child_samples': 35}. Best is trial 43 with value: 1215599.1303704483.\u001b[0m\n",
      "\u001b[32m[I 2023-03-07 12:43:15,483]\u001b[0m Trial 70 finished with value: 1559203.8397867938 and parameters: {'reg_alpha': 0.006941021903384936, 'reg_lambda': 0.2977035940304047, 'learning_rate': 0.017, 'max_depth': 20, 'num_leaves': 5, 'min_child_samples': 43}. Best is trial 43 with value: 1215599.1303704483.\u001b[0m\n",
      "\u001b[32m[I 2023-03-07 12:43:15,584]\u001b[0m Trial 71 finished with value: 1795306.0356096064 and parameters: {'reg_alpha': 0.0012611358950938712, 'reg_lambda': 0.035128990193814276, 'learning_rate': 0.008, 'max_depth': 20, 'num_leaves': 2, 'min_child_samples': 36}. Best is trial 43 with value: 1215599.1303704483.\u001b[0m\n",
      "\u001b[32m[I 2023-03-07 12:43:15,695]\u001b[0m Trial 72 finished with value: 1838991.6791575758 and parameters: {'reg_alpha': 0.0013916966365131406, 'reg_lambda': 0.05089054271881994, 'learning_rate': 0.008, 'max_depth': 20, 'num_leaves': 2, 'min_child_samples': 33}. Best is trial 43 with value: 1215599.1303704483.\u001b[0m\n",
      "\u001b[32m[I 2023-03-07 12:43:15,824]\u001b[0m Trial 73 finished with value: 1312797.4451420105 and parameters: {'reg_alpha': 0.002219271119895624, 'reg_lambda': 0.08183139331784049, 'learning_rate': 0.008, 'max_depth': 20, 'num_leaves': 3, 'min_child_samples': 39}. Best is trial 43 with value: 1215599.1303704483.\u001b[0m\n",
      "\u001b[32m[I 2023-03-07 12:43:15,927]\u001b[0m Trial 74 finished with value: 1176854.5365892036 and parameters: {'reg_alpha': 0.0028841127396328713, 'reg_lambda': 0.020307321615314497, 'learning_rate': 0.02, 'max_depth': 20, 'num_leaves': 2, 'min_child_samples': 29}. Best is trial 74 with value: 1176854.5365892036.\u001b[0m\n",
      "\u001b[32m[I 2023-03-07 12:43:16,056]\u001b[0m Trial 75 finished with value: 1736679.2546202268 and parameters: {'reg_alpha': 0.004978914108288884, 'reg_lambda': 0.021408201233052357, 'learning_rate': 0.02, 'max_depth': 20, 'num_leaves': 3, 'min_child_samples': 27}. Best is trial 74 with value: 1176854.5365892036.\u001b[0m\n",
      "\u001b[32m[I 2023-03-07 12:43:16,218]\u001b[0m Trial 76 finished with value: 1358660.3052722677 and parameters: {'reg_alpha': 0.002871810779148323, 'reg_lambda': 0.1434364433653095, 'learning_rate': 0.02, 'max_depth': 10, 'num_leaves': 4, 'min_child_samples': 24}. Best is trial 74 with value: 1176854.5365892036.\u001b[0m\n",
      "\u001b[32m[I 2023-03-07 12:43:16,322]\u001b[0m Trial 77 finished with value: 1468918.4660690727 and parameters: {'reg_alpha': 0.0032812479585724585, 'reg_lambda': 0.10745016022867208, 'learning_rate': 0.02, 'max_depth': 20, 'num_leaves': 2, 'min_child_samples': 30}. Best is trial 74 with value: 1176854.5365892036.\u001b[0m\n",
      "\u001b[32m[I 2023-03-07 12:43:16,446]\u001b[0m Trial 78 finished with value: 1612317.6863281035 and parameters: {'reg_alpha': 0.0055806277672386835, 'reg_lambda': 0.03924672171977096, 'learning_rate': 0.02, 'max_depth': 20, 'num_leaves': 3, 'min_child_samples': 28}. Best is trial 74 with value: 1176854.5365892036.\u001b[0m\n",
      "\u001b[32m[I 2023-03-07 12:43:16,700]\u001b[0m Trial 79 finished with value: 1590901.8528247077 and parameters: {'reg_alpha': 0.008156410267044912, 'reg_lambda': 0.014771426960297724, 'learning_rate': 0.01, 'max_depth': 10, 'num_leaves': 9, 'min_child_samples': 32}. Best is trial 74 with value: 1176854.5365892036.\u001b[0m\n",
      "\u001b[32m[I 2023-03-07 12:43:16,850]\u001b[0m Trial 80 finished with value: 1489902.6212278763 and parameters: {'reg_alpha': 0.0016794834625501421, 'reg_lambda': 0.06283272608512688, 'learning_rate': 0.014, 'max_depth': 20, 'num_leaves': 4, 'min_child_samples': 29}. Best is trial 74 with value: 1176854.5365892036.\u001b[0m\n",
      "\u001b[32m[I 2023-03-07 12:43:16,952]\u001b[0m Trial 81 finished with value: 1596757.7289766157 and parameters: {'reg_alpha': 0.0011078562462898394, 'reg_lambda': 0.028833762871591458, 'learning_rate': 0.008, 'max_depth': 20, 'num_leaves': 2, 'min_child_samples': 34}. Best is trial 74 with value: 1176854.5365892036.\u001b[0m\n",
      "\u001b[32m[I 2023-03-07 12:43:17,058]\u001b[0m Trial 82 finished with value: 1425513.660808002 and parameters: {'reg_alpha': 0.0021515204013184967, 'reg_lambda': 0.017864035329867432, 'learning_rate': 0.008, 'max_depth': 20, 'num_leaves': 2, 'min_child_samples': 31}. Best is trial 74 with value: 1176854.5365892036.\u001b[0m\n",
      "\u001b[32m[I 2023-03-07 12:43:17,161]\u001b[0m Trial 83 finished with value: 1786417.397079604 and parameters: {'reg_alpha': 0.0027866715765274444, 'reg_lambda': 0.010548579694256464, 'learning_rate': 0.008, 'max_depth': 20, 'num_leaves': 2, 'min_child_samples': 36}. Best is trial 74 with value: 1176854.5365892036.\u001b[0m\n",
      "\u001b[32m[I 2023-03-07 12:43:17,287]\u001b[0m Trial 84 finished with value: 1397276.6346421966 and parameters: {'reg_alpha': 0.0014103231071132163, 'reg_lambda': 0.05322968709279373, 'learning_rate': 0.006, 'max_depth': 20, 'num_leaves': 3, 'min_child_samples': 38}. Best is trial 74 with value: 1176854.5365892036.\u001b[0m\n",
      "\u001b[32m[I 2023-03-07 12:43:17,431]\u001b[0m Trial 85 finished with value: 1215925.3861834838 and parameters: {'reg_alpha': 0.003916044199830094, 'reg_lambda': 0.0340858116883871, 'learning_rate': 0.008, 'max_depth': 10, 'num_leaves': 3, 'min_child_samples': 26}. Best is trial 74 with value: 1176854.5365892036.\u001b[0m\n",
      "\u001b[32m[I 2023-03-07 12:43:17,604]\u001b[0m Trial 86 finished with value: 1662141.7118279038 and parameters: {'reg_alpha': 0.004165431647137934, 'reg_lambda': 0.041989547752963735, 'learning_rate': 0.008, 'max_depth': 10, 'num_leaves': 5, 'min_child_samples': 24}. Best is trial 74 with value: 1176854.5365892036.\u001b[0m\n",
      "\u001b[32m[I 2023-03-07 12:43:17,782]\u001b[0m Trial 87 finished with value: 1631010.5149647002 and parameters: {'reg_alpha': 0.00673938679351254, 'reg_lambda': 0.08739246661520073, 'learning_rate': 0.02, 'max_depth': 10, 'num_leaves': 4, 'min_child_samples': 26}. Best is trial 74 with value: 1176854.5365892036.\u001b[0m\n",
      "\u001b[32m[I 2023-03-07 12:43:17,912]\u001b[0m Trial 88 finished with value: 1567878.2664760884 and parameters: {'reg_alpha': 0.010081635794674108, 'reg_lambda': 0.02301989265461949, 'learning_rate': 0.017, 'max_depth': 10, 'num_leaves': 3, 'min_child_samples': 20}. Best is trial 74 with value: 1176854.5365892036.\u001b[0m\n",
      "\u001b[32m[I 2023-03-07 12:43:18,064]\u001b[0m Trial 89 finished with value: 1275915.7509783222 and parameters: {'reg_alpha': 0.0034801739457282444, 'reg_lambda': 0.06427537452459357, 'learning_rate': 0.008, 'max_depth': 10, 'num_leaves': 4, 'min_child_samples': 23}. Best is trial 74 with value: 1176854.5365892036.\u001b[0m\n",
      "\u001b[32m[I 2023-03-07 12:43:18,198]\u001b[0m Trial 90 finished with value: 1844818.9146139394 and parameters: {'reg_alpha': 0.0034925177856441857, 'reg_lambda': 0.03746727209994055, 'learning_rate': 0.008, 'max_depth': 10, 'num_leaves': 3, 'min_child_samples': 1}. Best is trial 74 with value: 1176854.5365892036.\u001b[0m\n",
      "\u001b[32m[I 2023-03-07 12:43:18,356]\u001b[0m Trial 91 finished with value: 1578984.5672208779 and parameters: {'reg_alpha': 0.004820705308460572, 'reg_lambda': 0.046469286311634134, 'learning_rate': 0.008, 'max_depth': 10, 'num_leaves': 4, 'min_child_samples': 23}. Best is trial 74 with value: 1176854.5365892036.\u001b[0m\n",
      "\u001b[32m[I 2023-03-07 12:43:18,510]\u001b[0m Trial 92 finished with value: 1485420.2065800147 and parameters: {'reg_alpha': 0.002226891004525741, 'reg_lambda': 0.07732830512473231, 'learning_rate': 0.008, 'max_depth': 10, 'num_leaves': 4, 'min_child_samples': 21}. Best is trial 74 with value: 1176854.5365892036.\u001b[0m\n",
      "\u001b[32m[I 2023-03-07 12:43:18,661]\u001b[0m Trial 93 finished with value: 1331755.723074415 and parameters: {'reg_alpha': 0.002740712892090373, 'reg_lambda': 0.06838404297472093, 'learning_rate': 0.008, 'max_depth': 10, 'num_leaves': 4, 'min_child_samples': 25}. Best is trial 74 with value: 1176854.5365892036.\u001b[0m\n",
      "\u001b[32m[I 2023-03-07 12:43:18,845]\u001b[0m Trial 94 finished with value: 1417245.9866526069 and parameters: {'reg_alpha': 0.0038517282628633674, 'reg_lambda': 0.10517793413058596, 'learning_rate': 0.008, 'max_depth': 10, 'num_leaves': 5, 'min_child_samples': 22}. Best is trial 74 with value: 1176854.5365892036.\u001b[0m\n",
      "\u001b[32m[I 2023-03-07 12:43:19,020]\u001b[0m Trial 95 finished with value: 1625294.7967335964 and parameters: {'reg_alpha': 0.005205751426233148, 'reg_lambda': 0.032494748993762736, 'learning_rate': 0.01, 'max_depth': 10, 'num_leaves': 5, 'min_child_samples': 28}. Best is trial 74 with value: 1176854.5365892036.\u001b[0m\n",
      "\u001b[32m[I 2023-03-07 12:43:19,148]\u001b[0m Trial 96 finished with value: 1499695.8434609424 and parameters: {'reg_alpha': 0.0017821650627525899, 'reg_lambda': 0.05492895757806798, 'learning_rate': 0.008, 'max_depth': 100, 'num_leaves': 3, 'min_child_samples': 26}. Best is trial 74 with value: 1176854.5365892036.\u001b[0m\n",
      "\u001b[32m[I 2023-03-07 12:43:19,343]\u001b[0m Trial 97 finished with value: 1197024.0831571296 and parameters: {'reg_alpha': 0.00755007672691418, 'reg_lambda': 0.17740064612866896, 'learning_rate': 0.014, 'max_depth': 10, 'num_leaves': 6, 'min_child_samples': 19}. Best is trial 74 with value: 1176854.5365892036.\u001b[0m\n",
      "\u001b[32m[I 2023-03-07 12:43:19,544]\u001b[0m Trial 98 finished with value: 1282166.5484515675 and parameters: {'reg_alpha': 0.005964673393306732, 'reg_lambda': 0.15955594359518407, 'learning_rate': 0.014, 'max_depth': 10, 'num_leaves': 6, 'min_child_samples': 19}. Best is trial 74 with value: 1176854.5365892036.\u001b[0m\n",
      "\u001b[32m[I 2023-03-07 12:43:19,742]\u001b[0m Trial 99 finished with value: 1255996.628079692 and parameters: {'reg_alpha': 0.0026561197687321263, 'reg_lambda': 0.2480076472221605, 'learning_rate': 0.014, 'max_depth': 10, 'num_leaves': 6, 'min_child_samples': 18}. Best is trial 74 with value: 1176854.5365892036.\u001b[0m\n",
      "\u001b[32m[I 2023-03-07 12:43:19,930]\u001b[0m Trial 100 finished with value: 1961816.402114438 and parameters: {'reg_alpha': 0.003496497962101611, 'reg_lambda': 0.21103145776447432, 'learning_rate': 0.014, 'max_depth': 10, 'num_leaves': 6, 'min_child_samples': 16}. Best is trial 74 with value: 1176854.5365892036.\u001b[0m\n",
      "\u001b[32m[I 2023-03-07 12:43:20,190]\u001b[0m Trial 101 finished with value: 1664723.5768664589 and parameters: {'reg_alpha': 0.0020786229097351006, 'reg_lambda': 0.37698353391144174, 'learning_rate': 0.014, 'max_depth': 10, 'num_leaves': 7, 'min_child_samples': 18}. Best is trial 74 with value: 1176854.5365892036.\u001b[0m\n",
      "\u001b[32m[I 2023-03-07 12:43:20,390]\u001b[0m Trial 102 finished with value: 1859360.1121820144 and parameters: {'reg_alpha': 0.004553992360693137, 'reg_lambda': 0.1600776210268632, 'learning_rate': 0.014, 'max_depth': 10, 'num_leaves': 6, 'min_child_samples': 19}. Best is trial 74 with value: 1176854.5365892036.\u001b[0m\n",
      "\u001b[32m[I 2023-03-07 12:43:20,583]\u001b[0m Trial 103 finished with value: 1432322.2249731135 and parameters: {'reg_alpha': 0.0029924291063794816, 'reg_lambda': 0.2325885588088123, 'learning_rate': 0.014, 'max_depth': 10, 'num_leaves': 6, 'min_child_samples': 14}. Best is trial 74 with value: 1176854.5365892036.\u001b[0m\n",
      "\u001b[32m[I 2023-03-07 12:43:20,790]\u001b[0m Trial 104 finished with value: 1872059.3847610701 and parameters: {'reg_alpha': 0.00620676944992979, 'reg_lambda': 0.27124365013669544, 'learning_rate': 0.014, 'max_depth': 10, 'num_leaves': 7, 'min_child_samples': 12}. Best is trial 74 with value: 1176854.5365892036.\u001b[0m\n",
      "\u001b[32m[I 2023-03-07 12:43:20,979]\u001b[0m Trial 105 finished with value: 1590987.6094815552 and parameters: {'reg_alpha': 0.007662431527865486, 'reg_lambda': 0.1623789342140329, 'learning_rate': 0.014, 'max_depth': 10, 'num_leaves': 6, 'min_child_samples': 20}. Best is trial 74 with value: 1176854.5365892036.\u001b[0m\n",
      "\u001b[32m[I 2023-03-07 12:43:21,177]\u001b[0m Trial 106 finished with value: 1487009.1234423784 and parameters: {'reg_alpha': 0.0036283134680801807, 'reg_lambda': 0.11656819618212189, 'learning_rate': 0.014, 'max_depth': 10, 'num_leaves': 7, 'min_child_samples': 21}. Best is trial 74 with value: 1176854.5365892036.\u001b[0m\n",
      "\u001b[32m[I 2023-03-07 12:43:21,361]\u001b[0m Trial 107 finished with value: 1688494.469507172 and parameters: {'reg_alpha': 0.0023363068032736358, 'reg_lambda': 0.19819348773480674, 'learning_rate': 0.014, 'max_depth': 10, 'num_leaves': 6, 'min_child_samples': 18}. Best is trial 74 with value: 1176854.5365892036.\u001b[0m\n",
      "\u001b[32m[I 2023-03-07 12:43:21,542]\u001b[0m Trial 108 finished with value: 1588456.50769526 and parameters: {'reg_alpha': 0.004490175263586213, 'reg_lambda': 0.2527909817539345, 'learning_rate': 0.014, 'max_depth': 10, 'num_leaves': 5, 'min_child_samples': 23}. Best is trial 74 with value: 1176854.5365892036.\u001b[0m\n",
      "\u001b[32m[I 2023-03-07 12:43:21,740]\u001b[0m Trial 109 finished with value: 1441895.3755462884 and parameters: {'reg_alpha': 0.002605269772448568, 'reg_lambda': 0.1480352267769534, 'learning_rate': 0.014, 'max_depth': 10, 'num_leaves': 5, 'min_child_samples': 16}. Best is trial 74 with value: 1176854.5365892036.\u001b[0m\n",
      "\u001b[32m[I 2023-03-07 12:43:21,919]\u001b[0m Trial 110 finished with value: 1526372.8476785182 and parameters: {'reg_alpha': 0.0014893680556112795, 'reg_lambda': 0.30068759338396467, 'learning_rate': 0.017, 'max_depth': 10, 'num_leaves': 6, 'min_child_samples': 40}. Best is trial 74 with value: 1176854.5365892036.\u001b[0m\n",
      "\u001b[32m[I 2023-03-07 12:43:22,086]\u001b[0m Trial 111 finished with value: 1382526.691244482 and parameters: {'reg_alpha': 0.005884614256618467, 'reg_lambda': 0.13177758200411008, 'learning_rate': 0.014, 'max_depth': 20, 'num_leaves': 5, 'min_child_samples': 49}. Best is trial 74 with value: 1176854.5365892036.\u001b[0m\n",
      "\u001b[32m[I 2023-03-07 12:43:22,230]\u001b[0m Trial 112 finished with value: 1809694.8216882073 and parameters: {'reg_alpha': 0.01112587839561495, 'reg_lambda': 0.09057271548445346, 'learning_rate': 0.02, 'max_depth': 100, 'num_leaves': 4, 'min_child_samples': 19}. Best is trial 74 with value: 1176854.5365892036.\u001b[0m\n",
      "\u001b[32m[I 2023-03-07 12:43:22,405]\u001b[0m Trial 113 finished with value: 1701065.451325451 and parameters: {'reg_alpha': 0.009839124697835995, 'reg_lambda': 0.18241575035894242, 'learning_rate': 0.01, 'max_depth': 20, 'num_leaves': 5, 'min_child_samples': 21}. Best is trial 74 with value: 1176854.5365892036.\u001b[0m\n",
      "\u001b[32m[I 2023-03-07 12:43:22,599]\u001b[0m Trial 114 finished with value: 1490298.0875684563 and parameters: {'reg_alpha': 0.0018416515434649873, 'reg_lambda': 0.025789413545296905, 'learning_rate': 0.014, 'max_depth': 10, 'num_leaves': 6, 'min_child_samples': 16}. Best is trial 74 with value: 1176854.5365892036.\u001b[0m\n",
      "\u001b[32m[I 2023-03-07 12:43:22,704]\u001b[0m Trial 115 finished with value: 1516939.813823432 and parameters: {'reg_alpha': 0.013929544462660471, 'reg_lambda': 0.34992771060638583, 'learning_rate': 0.006, 'max_depth': 20, 'num_leaves': 2, 'min_child_samples': 44}. Best is trial 74 with value: 1176854.5365892036.\u001b[0m\n",
      "\u001b[32m[I 2023-03-07 12:43:22,830]\u001b[0m Trial 116 finished with value: 1576955.9789760164 and parameters: {'reg_alpha': 0.0058535346588891495, 'reg_lambda': 0.25915722895663273, 'learning_rate': 0.017, 'max_depth': 10, 'num_leaves': 3, 'min_child_samples': 42}. Best is trial 74 with value: 1176854.5365892036.\u001b[0m\n",
      "\u001b[32m[I 2023-03-07 12:43:23,028]\u001b[0m Trial 117 finished with value: 1438927.55326744 and parameters: {'reg_alpha': 0.00825809264013569, 'reg_lambda': 0.3875096675582889, 'learning_rate': 0.008, 'max_depth': 20, 'num_leaves': 7, 'min_child_samples': 24}. Best is trial 74 with value: 1176854.5365892036.\u001b[0m\n",
      "\u001b[32m[I 2023-03-07 12:43:23,186]\u001b[0m Trial 118 finished with value: 1532607.7115978443 and parameters: {'reg_alpha': 0.0036046240388981888, 'reg_lambda': 0.4749071884371254, 'learning_rate': 0.008, 'max_depth': 10, 'num_leaves': 4, 'min_child_samples': 18}. Best is trial 74 with value: 1176854.5365892036.\u001b[0m\n",
      "\u001b[32m[I 2023-03-07 12:43:23,310]\u001b[0m Trial 119 finished with value: 1511706.3512838339 and parameters: {'reg_alpha': 0.002974118075877969, 'reg_lambda': 0.020415488918078938, 'learning_rate': 0.02, 'max_depth': 20, 'num_leaves': 3, 'min_child_samples': 13}. Best is trial 74 with value: 1176854.5365892036.\u001b[0m\n",
      "\u001b[32m[I 2023-03-07 12:43:23,458]\u001b[0m Trial 120 finished with value: 1427316.0251299487 and parameters: {'reg_alpha': 0.0045000133226414584, 'reg_lambda': 0.06372032501575965, 'learning_rate': 0.01, 'max_depth': 10, 'num_leaves': 4, 'min_child_samples': 20}. Best is trial 74 with value: 1176854.5365892036.\u001b[0m\n",
      "\u001b[32m[I 2023-03-07 12:43:23,602]\u001b[0m Trial 121 finished with value: 1403330.5220291854 and parameters: {'reg_alpha': 0.007150450790925994, 'reg_lambda': 0.09639812725808866, 'learning_rate': 0.008, 'max_depth': 10, 'num_leaves': 4, 'min_child_samples': 28}. Best is trial 74 with value: 1176854.5365892036.\u001b[0m\n",
      "\u001b[32m[I 2023-03-07 12:43:23,831]\u001b[0m Trial 122 finished with value: 1572222.1402628806 and parameters: {'reg_alpha': 0.020759450702043065, 'reg_lambda': 0.031546086514936005, 'learning_rate': 0.008, 'max_depth': 10, 'num_leaves': 8, 'min_child_samples': 22}. Best is trial 74 with value: 1176854.5365892036.\u001b[0m\n",
      "\u001b[32m[I 2023-03-07 12:43:24,012]\u001b[0m Trial 123 finished with value: 1431518.8839702914 and parameters: {'reg_alpha': 0.008663338153512907, 'reg_lambda': 0.04462304552098785, 'learning_rate': 0.008, 'max_depth': 10, 'num_leaves': 5, 'min_child_samples': 23}. Best is trial 74 with value: 1176854.5365892036.\u001b[0m\n",
      "\u001b[32m[I 2023-03-07 12:43:24,156]\u001b[0m Trial 124 finished with value: 1329628.074101101 and parameters: {'reg_alpha': 0.00516316496084574, 'reg_lambda': 0.13435921161817468, 'learning_rate': 0.008, 'max_depth': 10, 'num_leaves': 4, 'min_child_samples': 27}. Best is trial 74 with value: 1176854.5365892036.\u001b[0m\n",
      "\u001b[32m[I 2023-03-07 12:43:24,258]\u001b[0m Trial 125 finished with value: 1490999.104800161 and parameters: {'reg_alpha': 0.0026776587290806763, 'reg_lambda': 0.05756754857958281, 'learning_rate': 0.008, 'max_depth': 20, 'num_leaves': 2, 'min_child_samples': 37}. Best is trial 74 with value: 1176854.5365892036.\u001b[0m\n",
      "\u001b[32m[I 2023-03-07 12:43:24,402]\u001b[0m Trial 126 finished with value: 1626432.2436528874 and parameters: {'reg_alpha': 0.0065685473877441294, 'reg_lambda': 0.08114509083971029, 'learning_rate': 0.017, 'max_depth': 10, 'num_leaves': 4, 'min_child_samples': 25}. Best is trial 74 with value: 1176854.5365892036.\u001b[0m\n",
      "\u001b[32m[I 2023-03-07 12:43:24,564]\u001b[0m Trial 127 finished with value: 1702904.4961185344 and parameters: {'reg_alpha': 0.0040739119536334426, 'reg_lambda': 0.21136763569711953, 'learning_rate': 0.008, 'max_depth': 10, 'num_leaves': 5, 'min_child_samples': 30}. Best is trial 74 with value: 1176854.5365892036.\u001b[0m\n",
      "\u001b[32m[I 2023-03-07 12:43:24,753]\u001b[0m Trial 128 finished with value: 1473974.3069874751 and parameters: {'reg_alpha': 0.06809711338714407, 'reg_lambda': 0.11387416376872023, 'learning_rate': 0.014, 'max_depth': 20, 'num_leaves': 6, 'min_child_samples': 17}. Best is trial 74 with value: 1176854.5365892036.\u001b[0m\n",
      "\u001b[32m[I 2023-03-07 12:43:24,881]\u001b[0m Trial 129 finished with value: 1225811.0227247442 and parameters: {'reg_alpha': 0.013416878383944696, 'reg_lambda': 0.03769090490572431, 'learning_rate': 0.008, 'max_depth': 100, 'num_leaves': 3, 'min_child_samples': 29}. Best is trial 74 with value: 1176854.5365892036.\u001b[0m\n",
      "\u001b[32m[I 2023-03-07 12:43:25,006]\u001b[0m Trial 130 finished with value: 1295468.224969505 and parameters: {'reg_alpha': 0.16780639768784936, 'reg_lambda': 0.0163614561666789, 'learning_rate': 0.008, 'max_depth': 100, 'num_leaves': 3, 'min_child_samples': 35}. Best is trial 74 with value: 1176854.5365892036.\u001b[0m\n",
      "\u001b[32m[I 2023-03-07 12:43:25,129]\u001b[0m Trial 131 finished with value: 1195912.898219619 and parameters: {'reg_alpha': 0.14095935470555382, 'reg_lambda': 0.015866306543733336, 'learning_rate': 0.008, 'max_depth': 100, 'num_leaves': 3, 'min_child_samples': 35}. Best is trial 74 with value: 1176854.5365892036.\u001b[0m\n",
      "\u001b[32m[I 2023-03-07 12:43:25,263]\u001b[0m Trial 132 finished with value: 1496392.0134888468 and parameters: {'reg_alpha': 0.13823601340428224, 'reg_lambda': 0.016599293056388412, 'learning_rate': 0.008, 'max_depth': 100, 'num_leaves': 3, 'min_child_samples': 35}. Best is trial 74 with value: 1176854.5365892036.\u001b[0m\n",
      "\u001b[32m[I 2023-03-07 12:43:25,392]\u001b[0m Trial 133 finished with value: 1578567.7121616616 and parameters: {'reg_alpha': 0.20024377541530874, 'reg_lambda': 0.013036572516619204, 'learning_rate': 0.008, 'max_depth': 100, 'num_leaves': 3, 'min_child_samples': 33}. Best is trial 74 with value: 1176854.5365892036.\u001b[0m\n",
      "\u001b[32m[I 2023-03-07 12:43:25,493]\u001b[0m Trial 134 finished with value: 1592219.00499277 and parameters: {'reg_alpha': 0.10567494833062396, 'reg_lambda': 0.010543435746653675, 'learning_rate': 0.008, 'max_depth': 100, 'num_leaves': 2, 'min_child_samples': 36}. Best is trial 74 with value: 1176854.5365892036.\u001b[0m\n",
      "\u001b[32m[I 2023-03-07 12:43:25,618]\u001b[0m Trial 135 finished with value: 1225143.2557160428 and parameters: {'reg_alpha': 0.21587191343366519, 'reg_lambda': 0.019241953070594692, 'learning_rate': 0.008, 'max_depth': 100, 'num_leaves': 3, 'min_child_samples': 37}. Best is trial 74 with value: 1176854.5365892036.\u001b[0m\n",
      "\u001b[32m[I 2023-03-07 12:43:25,744]\u001b[0m Trial 136 finished with value: 1536468.177688904 and parameters: {'reg_alpha': 0.34550074303753975, 'reg_lambda': 0.019745757431263847, 'learning_rate': 0.02, 'max_depth': 100, 'num_leaves': 3, 'min_child_samples': 39}. Best is trial 74 with value: 1176854.5365892036.\u001b[0m\n",
      "\u001b[32m[I 2023-03-07 12:43:25,857]\u001b[0m Trial 137 finished with value: 1537704.0388077928 and parameters: {'reg_alpha': 0.25294346861087225, 'reg_lambda': 0.03488954542158485, 'learning_rate': 0.008, 'max_depth': 100, 'num_leaves': 2, 'min_child_samples': 37}. Best is trial 74 with value: 1176854.5365892036.\u001b[0m\n",
      "\u001b[32m[I 2023-03-07 12:43:25,983]\u001b[0m Trial 138 finished with value: 1554756.945664552 and parameters: {'reg_alpha': 0.0982565439694846, 'reg_lambda': 0.02607768144124891, 'learning_rate': 0.006, 'max_depth': 100, 'num_leaves': 3, 'min_child_samples': 31}. Best is trial 74 with value: 1176854.5365892036.\u001b[0m\n",
      "\u001b[32m[I 2023-03-07 12:43:26,107]\u001b[0m Trial 139 finished with value: 1413409.5288870856 and parameters: {'reg_alpha': 0.036178453446479235, 'reg_lambda': 0.008812709699835964, 'learning_rate': 0.01, 'max_depth': 100, 'num_leaves': 3, 'min_child_samples': 34}. Best is trial 74 with value: 1176854.5365892036.\u001b[0m\n",
      "\u001b[32m[I 2023-03-07 12:43:26,209]\u001b[0m Trial 140 finished with value: 1644472.029676485 and parameters: {'reg_alpha': 0.0735684413182483, 'reg_lambda': 0.02503384590723971, 'learning_rate': 0.014, 'max_depth': 100, 'num_leaves': 2, 'min_child_samples': 32}. Best is trial 74 with value: 1176854.5365892036.\u001b[0m\n",
      "\u001b[32m[I 2023-03-07 12:43:26,332]\u001b[0m Trial 141 finished with value: 1336779.3014824784 and parameters: {'reg_alpha': 0.16297446541630725, 'reg_lambda': 0.017944378975368974, 'learning_rate': 0.008, 'max_depth': 100, 'num_leaves': 3, 'min_child_samples': 33}. Best is trial 74 with value: 1176854.5365892036.\u001b[0m\n",
      "\u001b[32m[I 2023-03-07 12:43:26,457]\u001b[0m Trial 142 finished with value: 1509576.452338198 and parameters: {'reg_alpha': 0.15401303855747536, 'reg_lambda': 0.014846631890327772, 'learning_rate': 0.008, 'max_depth': 100, 'num_leaves': 3, 'min_child_samples': 38}. Best is trial 74 with value: 1176854.5365892036.\u001b[0m\n",
      "\u001b[32m[I 2023-03-07 12:43:26,582]\u001b[0m Trial 143 finished with value: 1465305.9478803757 and parameters: {'reg_alpha': 0.11251155643989028, 'reg_lambda': 0.02202060355981674, 'learning_rate': 0.008, 'max_depth': 100, 'num_leaves': 3, 'min_child_samples': 36}. Best is trial 74 with value: 1176854.5365892036.\u001b[0m\n",
      "\u001b[32m[I 2023-03-07 12:43:26,684]\u001b[0m Trial 144 finished with value: 1690034.4956628191 and parameters: {'reg_alpha': 0.19426168887504813, 'reg_lambda': 0.01578299401201846, 'learning_rate': 0.008, 'max_depth': 100, 'num_leaves': 2, 'min_child_samples': 37}. Best is trial 74 with value: 1176854.5365892036.\u001b[0m\n",
      "\u001b[32m[I 2023-03-07 12:43:26,814]\u001b[0m Trial 145 finished with value: 1490164.2537948033 and parameters: {'reg_alpha': 0.08725655312048027, 'reg_lambda': 0.019913417108960964, 'learning_rate': 0.008, 'max_depth': 100, 'num_leaves': 3, 'min_child_samples': 39}. Best is trial 74 with value: 1176854.5365892036.\u001b[0m\n",
      "\u001b[32m[I 2023-03-07 12:43:26,918]\u001b[0m Trial 146 finished with value: 1243242.6280682182 and parameters: {'reg_alpha': 0.054811409864125804, 'reg_lambda': 0.011845360795900735, 'learning_rate': 0.008, 'max_depth': 100, 'num_leaves': 2, 'min_child_samples': 35}. Best is trial 74 with value: 1176854.5365892036.\u001b[0m\n",
      "\u001b[32m[I 2023-03-07 12:43:27,021]\u001b[0m Trial 147 finished with value: 1390869.260169678 and parameters: {'reg_alpha': 0.00338062321850915, 'reg_lambda': 0.011951307480019078, 'learning_rate': 0.017, 'max_depth': 100, 'num_leaves': 2, 'min_child_samples': 35}. Best is trial 74 with value: 1176854.5365892036.\u001b[0m\n",
      "\u001b[32m[I 2023-03-07 12:43:27,124]\u001b[0m Trial 148 finished with value: 1580426.935871338 and parameters: {'reg_alpha': 0.0023826538224439495, 'reg_lambda': 0.009012477725645188, 'learning_rate': 0.014, 'max_depth': 100, 'num_leaves': 2, 'min_child_samples': 29}. Best is trial 74 with value: 1176854.5365892036.\u001b[0m\n",
      "\u001b[32m[I 2023-03-07 12:43:27,227]\u001b[0m Trial 149 finished with value: 2009384.5625687747 and parameters: {'reg_alpha': 0.05420883414252124, 'reg_lambda': 0.17855330472585063, 'learning_rate': 0.008, 'max_depth': 100, 'num_leaves': 2, 'min_child_samples': 34}. Best is trial 74 with value: 1176854.5365892036.\u001b[0m\n",
      "\u001b[32m[I 2023-03-07 12:43:27,330]\u001b[0m Trial 150 finished with value: 1501166.8516389723 and parameters: {'reg_alpha': 0.016773813444886772, 'reg_lambda': 0.029826562450904318, 'learning_rate': 0.008, 'max_depth': 100, 'num_leaves': 2, 'min_child_samples': 41}. Best is trial 74 with value: 1176854.5365892036.\u001b[0m\n",
      "\u001b[32m[I 2023-03-07 12:43:27,455]\u001b[0m Trial 151 finished with value: 1330746.4056106962 and parameters: {'reg_alpha': 0.014322736814808388, 'reg_lambda': 0.01525092652771647, 'learning_rate': 0.008, 'max_depth': 100, 'num_leaves': 3, 'min_child_samples': 35}. Best is trial 74 with value: 1176854.5365892036.\u001b[0m\n",
      "\u001b[32m[I 2023-03-07 12:43:27,581]\u001b[0m Trial 152 finished with value: 1657515.3764534597 and parameters: {'reg_alpha': 0.12791788688687453, 'reg_lambda': 0.012223944056216523, 'learning_rate': 0.008, 'max_depth': 100, 'num_leaves': 3, 'min_child_samples': 19}. Best is trial 74 with value: 1176854.5365892036.\u001b[0m\n",
      "\u001b[32m[I 2023-03-07 12:43:27,707]\u001b[0m Trial 153 finished with value: 1494594.638236985 and parameters: {'reg_alpha': 0.0893558380163351, 'reg_lambda': 0.035823099078231245, 'learning_rate': 0.008, 'max_depth': 100, 'num_leaves': 3, 'min_child_samples': 33}. Best is trial 74 with value: 1176854.5365892036.\u001b[0m\n",
      "\u001b[32m[I 2023-03-07 12:43:27,945]\u001b[0m Trial 154 finished with value: 1885384.921286086 and parameters: {'reg_alpha': 0.0019548209638968347, 'reg_lambda': 0.00790947442529684, 'learning_rate': 0.008, 'max_depth': 100, 'num_leaves': 11, 'min_child_samples': 37}. Best is trial 74 with value: 1176854.5365892036.\u001b[0m\n",
      "\u001b[32m[I 2023-03-07 12:43:28,130]\u001b[0m Trial 155 finished with value: 1307638.4330535815 and parameters: {'reg_alpha': 0.1161982666467973, 'reg_lambda': 0.011497435690532803, 'learning_rate': 0.02, 'max_depth': 100, 'num_leaves': 6, 'min_child_samples': 36}. Best is trial 74 with value: 1176854.5365892036.\u001b[0m\n",
      "\u001b[32m[I 2023-03-07 12:43:28,277]\u001b[0m Trial 156 finished with value: 1883209.4782460523 and parameters: {'reg_alpha': 0.004745042677315411, 'reg_lambda': 0.014606450430297945, 'learning_rate': 0.008, 'max_depth': 10, 'num_leaves': 4, 'min_child_samples': 32}. Best is trial 74 with value: 1176854.5365892036.\u001b[0m\n",
      "\u001b[32m[I 2023-03-07 12:43:28,380]\u001b[0m Trial 157 finished with value: 1428063.3084428306 and parameters: {'reg_alpha': 0.0037357830085487913, 'reg_lambda': 0.022823795323296227, 'learning_rate': 0.014, 'max_depth': 100, 'num_leaves': 2, 'min_child_samples': 21}. Best is trial 74 with value: 1176854.5365892036.\u001b[0m\n",
      "\u001b[32m[I 2023-03-07 12:43:28,506]\u001b[0m Trial 158 finished with value: 1569471.279015954 and parameters: {'reg_alpha': 0.01054440345312131, 'reg_lambda': 0.04229676694387305, 'learning_rate': 0.01, 'max_depth': 10, 'num_leaves': 3, 'min_child_samples': 34}. Best is trial 74 with value: 1176854.5365892036.\u001b[0m\n",
      "\u001b[32m[I 2023-03-07 12:43:28,632]\u001b[0m Trial 159 finished with value: 1456110.0800354003 and parameters: {'reg_alpha': 0.05421190673723033, 'reg_lambda': 0.01784093244353936, 'learning_rate': 0.008, 'max_depth': 10, 'num_leaves': 3, 'min_child_samples': 38}. Best is trial 74 with value: 1176854.5365892036.\u001b[0m\n",
      "\u001b[32m[I 2023-03-07 12:43:28,743]\u001b[0m Trial 160 finished with value: 1559715.0207305716 and parameters: {'reg_alpha': 0.001621320997537634, 'reg_lambda': 0.22628460066198, 'learning_rate': 0.008, 'max_depth': 20, 'num_leaves': 2, 'min_child_samples': 27}. Best is trial 74 with value: 1176854.5365892036.\u001b[0m\n",
      "\u001b[32m[I 2023-03-07 12:43:28,891]\u001b[0m Trial 161 finished with value: 1423869.5021019303 and parameters: {'reg_alpha': 0.006755554471806774, 'reg_lambda': 0.02735221621515432, 'learning_rate': 0.008, 'max_depth': 20, 'num_leaves': 4, 'min_child_samples': 17}. Best is trial 74 with value: 1176854.5365892036.\u001b[0m\n",
      "\u001b[32m[I 2023-03-07 12:43:29,035]\u001b[0m Trial 162 finished with value: 1316770.5190801073 and parameters: {'reg_alpha': 0.005750628732112318, 'reg_lambda': 0.04896368522833734, 'learning_rate': 0.008, 'max_depth': 20, 'num_leaves': 4, 'min_child_samples': 31}. Best is trial 74 with value: 1176854.5365892036.\u001b[0m\n",
      "\u001b[32m[I 2023-03-07 12:43:29,213]\u001b[0m Trial 163 finished with value: 1202236.1593337217 and parameters: {'reg_alpha': 0.0041400623639498806, 'reg_lambda': 0.034485682200638405, 'learning_rate': 0.008, 'max_depth': 20, 'num_leaves': 4, 'min_child_samples': 46}. Best is trial 74 with value: 1176854.5365892036.\u001b[0m\n",
      "\u001b[32m[I 2023-03-07 12:43:29,362]\u001b[0m Trial 164 finished with value: 1320361.0763215937 and parameters: {'reg_alpha': 0.0029836578256603155, 'reg_lambda': 0.03383425796286593, 'learning_rate': 0.008, 'max_depth': 20, 'num_leaves': 4, 'min_child_samples': 45}. Best is trial 74 with value: 1176854.5365892036.\u001b[0m\n",
      "\u001b[32m[I 2023-03-07 12:43:29,537]\u001b[0m Trial 165 finished with value: 2030260.8866917405 and parameters: {'reg_alpha': 0.004176477620963753, 'reg_lambda': 0.013361054338457422, 'learning_rate': 0.017, 'max_depth': 20, 'num_leaves': 5, 'min_child_samples': 20}. Best is trial 74 with value: 1176854.5365892036.\u001b[0m\n",
      "\u001b[32m[I 2023-03-07 12:43:29,701]\u001b[0m Trial 166 finished with value: 1511314.5780637695 and parameters: {'reg_alpha': 0.023829944393389896, 'reg_lambda': 0.2828479145965431, 'learning_rate': 0.008, 'max_depth': 10, 'num_leaves': 4, 'min_child_samples': 47}. Best is trial 74 with value: 1176854.5365892036.\u001b[0m\n",
      "\u001b[32m[I 2023-03-07 12:43:29,836]\u001b[0m Trial 167 finished with value: 1264616.5668748778 and parameters: {'reg_alpha': 0.0024178798522820023, 'reg_lambda': 0.1499044468175882, 'learning_rate': 0.014, 'max_depth': 20, 'num_leaves': 3, 'min_child_samples': 25}. Best is trial 74 with value: 1176854.5365892036.\u001b[0m\n",
      "\u001b[32m[I 2023-03-07 12:43:30,048]\u001b[0m Trial 168 finished with value: 1255310.737345182 and parameters: {'reg_alpha': 0.0022138310532827236, 'reg_lambda': 0.15095572139183622, 'learning_rate': 0.014, 'max_depth': 20, 'num_leaves': 6, 'min_child_samples': 26}. Best is trial 74 with value: 1176854.5365892036.\u001b[0m\n",
      "\u001b[32m[I 2023-03-07 12:43:30,263]\u001b[0m Trial 169 finished with value: 1996221.6531469272 and parameters: {'reg_alpha': 0.0022818277357447322, 'reg_lambda': 0.17808345692958746, 'learning_rate': 0.014, 'max_depth': 20, 'num_leaves': 7, 'min_child_samples': 24}. Best is trial 74 with value: 1176854.5365892036.\u001b[0m\n",
      "\u001b[32m[I 2023-03-07 12:43:30,397]\u001b[0m Trial 170 finished with value: 1795238.457881807 and parameters: {'reg_alpha': 0.0013153475078467368, 'reg_lambda': 0.12598258285268665, 'learning_rate': 0.014, 'max_depth': 20, 'num_leaves': 3, 'min_child_samples': 25}. Best is trial 74 with value: 1176854.5365892036.\u001b[0m\n",
      "\u001b[32m[I 2023-03-07 12:43:30,595]\u001b[0m Trial 171 finished with value: 1477397.7034870158 and parameters: {'reg_alpha': 0.002728908956595154, 'reg_lambda': 0.1997379609433528, 'learning_rate': 0.014, 'max_depth': 20, 'num_leaves': 6, 'min_child_samples': 26}. Best is trial 74 with value: 1176854.5365892036.\u001b[0m\n",
      "\u001b[32m[I 2023-03-07 12:43:30,792]\u001b[0m Trial 172 finished with value: 1326210.1383621092 and parameters: {'reg_alpha': 0.0019888100738217145, 'reg_lambda': 0.15309436083064565, 'learning_rate': 0.014, 'max_depth': 20, 'num_leaves': 6, 'min_child_samples': 23}. Best is trial 74 with value: 1176854.5365892036.\u001b[0m\n",
      "\u001b[32m[I 2023-03-07 12:43:30,991]\u001b[0m Trial 173 finished with value: 1540126.5902793524 and parameters: {'reg_alpha': 0.00319043550643783, 'reg_lambda': 0.14847702241450186, 'learning_rate': 0.014, 'max_depth': 20, 'num_leaves': 6, 'min_child_samples': 27}. Best is trial 74 with value: 1176854.5365892036.\u001b[0m\n",
      "\u001b[32m[I 2023-03-07 12:43:31,185]\u001b[0m Trial 174 finished with value: 1428106.1443815199 and parameters: {'reg_alpha': 0.00468209061552535, 'reg_lambda': 0.326908364308946, 'learning_rate': 0.014, 'max_depth': 20, 'num_leaves': 6, 'min_child_samples': 28}. Best is trial 74 with value: 1176854.5365892036.\u001b[0m\n",
      "\u001b[32m[I 2023-03-07 12:43:31,358]\u001b[0m Trial 175 finished with value: 1690829.5308743212 and parameters: {'reg_alpha': 0.002504905007100889, 'reg_lambda': 0.1066408963249467, 'learning_rate': 0.014, 'max_depth': 20, 'num_leaves': 5, 'min_child_samples': 24}. Best is trial 74 with value: 1176854.5365892036.\u001b[0m\n",
      "\u001b[32m[I 2023-03-07 12:43:31,508]\u001b[0m Trial 176 finished with value: 1570892.8852867852 and parameters: {'reg_alpha': 0.0017233671056672611, 'reg_lambda': 0.24409017377197603, 'learning_rate': 0.014, 'max_depth': 20, 'num_leaves': 4, 'min_child_samples': 26}. Best is trial 74 with value: 1176854.5365892036.\u001b[0m\n",
      "\u001b[32m[I 2023-03-07 12:43:31,638]\u001b[0m Trial 177 finished with value: 1609791.3769697866 and parameters: {'reg_alpha': 0.003756190690331691, 'reg_lambda': 0.09466083808632066, 'learning_rate': 0.014, 'max_depth': 20, 'num_leaves': 3, 'min_child_samples': 29}. Best is trial 74 with value: 1176854.5365892036.\u001b[0m\n",
      "\u001b[32m[I 2023-03-07 12:43:31,744]\u001b[0m Trial 178 finished with value: 1878078.9664038757 and parameters: {'reg_alpha': 0.0031629299537693518, 'reg_lambda': 0.0652499631954287, 'learning_rate': 0.02, 'max_depth': 10, 'num_leaves': 2, 'min_child_samples': 22}. Best is trial 74 with value: 1176854.5365892036.\u001b[0m\n",
      "\u001b[32m[I 2023-03-07 12:43:31,937]\u001b[0m Trial 179 finished with value: 1531344.5474380234 and parameters: {'reg_alpha': 0.0021404601865384334, 'reg_lambda': 0.1239357085854456, 'learning_rate': 0.006, 'max_depth': 20, 'num_leaves': 6, 'min_child_samples': 25}. Best is trial 74 with value: 1176854.5365892036.\u001b[0m\n",
      "\u001b[32m[I 2023-03-07 12:43:32,107]\u001b[0m Trial 180 finished with value: 1611874.429205829 and parameters: {'reg_alpha': 0.005301028298476827, 'reg_lambda': 0.18085960973096477, 'learning_rate': 0.01, 'max_depth': 10, 'num_leaves': 5, 'min_child_samples': 18}. Best is trial 74 with value: 1176854.5365892036.\u001b[0m\n",
      "\u001b[32m[I 2023-03-07 12:43:32,239]\u001b[0m Trial 181 finished with value: 1379782.565977823 and parameters: {'reg_alpha': 0.1735131859471413, 'reg_lambda': 0.02133051580196535, 'learning_rate': 0.008, 'max_depth': 100, 'num_leaves': 3, 'min_child_samples': 36}. Best is trial 74 with value: 1176854.5365892036.\u001b[0m\n",
      "\u001b[32m[I 2023-03-07 12:43:32,370]\u001b[0m Trial 182 finished with value: 1667620.0170314005 and parameters: {'reg_alpha': 0.14256987485645853, 'reg_lambda': 0.04117032685085484, 'learning_rate': 0.008, 'max_depth': 20, 'num_leaves': 3, 'min_child_samples': 35}. Best is trial 74 with value: 1176854.5365892036.\u001b[0m\n",
      "\u001b[32m[I 2023-03-07 12:43:32,577]\u001b[0m Trial 183 finished with value: 1537561.0096348093 and parameters: {'reg_alpha': 0.20572064211635568, 'reg_lambda': 0.03025236664976295, 'learning_rate': 0.008, 'max_depth': 100, 'num_leaves': 7, 'min_child_samples': 22}. Best is trial 74 with value: 1176854.5365892036.\u001b[0m\n",
      "\u001b[32m[I 2023-03-07 12:43:32,712]\u001b[0m Trial 184 finished with value: 1130772.9443924562 and parameters: {'reg_alpha': 0.012466958404923028, 'reg_lambda': 0.017560950215481264, 'learning_rate': 0.008, 'max_depth': 10, 'num_leaves': 3, 'min_child_samples': 34}. Best is trial 184 with value: 1130772.9443924562.\u001b[0m\n",
      "\u001b[32m[I 2023-03-07 12:43:32,835]\u001b[0m Trial 185 finished with value: 1948375.8950660026 and parameters: {'reg_alpha': 0.00711742286429888, 'reg_lambda': 0.01935368154838062, 'learning_rate': 0.014, 'max_depth': 10, 'num_leaves': 2, 'min_child_samples': 19}. Best is trial 184 with value: 1130772.9443924562.\u001b[0m\n",
      "\u001b[32m[I 2023-03-07 12:43:32,977]\u001b[0m Trial 186 finished with value: 1471747.233672025 and parameters: {'reg_alpha': 0.008579520524079379, 'reg_lambda': 0.026401491839862543, 'learning_rate': 0.017, 'max_depth': 10, 'num_leaves': 3, 'min_child_samples': 34}. Best is trial 184 with value: 1130772.9443924562.\u001b[0m\n",
      "\u001b[32m[I 2023-03-07 12:43:33,138]\u001b[0m Trial 187 finished with value: 1307418.8928258612 and parameters: {'reg_alpha': 0.019975346632837735, 'reg_lambda': 0.07718582599501292, 'learning_rate': 0.008, 'max_depth': 10, 'num_leaves': 4, 'min_child_samples': 15}. Best is trial 184 with value: 1130772.9443924562.\u001b[0m\n",
      "\u001b[32m[I 2023-03-07 12:43:33,294]\u001b[0m Trial 188 finished with value: 1465643.1189337515 and parameters: {'reg_alpha': 0.012928936160097246, 'reg_lambda': 0.010244854686218259, 'learning_rate': 0.008, 'max_depth': 10, 'num_leaves': 4, 'min_child_samples': 23}. Best is trial 184 with value: 1130772.9443924562.\u001b[0m\n",
      "\u001b[32m[I 2023-03-07 12:43:33,429]\u001b[0m Trial 189 finished with value: 1337000.7901667608 and parameters: {'reg_alpha': 0.04334463039348855, 'reg_lambda': 0.05538150254101082, 'learning_rate': 0.014, 'max_depth': 10, 'num_leaves': 3, 'min_child_samples': 27}. Best is trial 184 with value: 1130772.9443924562.\u001b[0m\n",
      "\u001b[32m[I 2023-03-07 12:43:33,562]\u001b[0m Trial 190 finished with value: 1436897.0315887656 and parameters: {'reg_alpha': 0.004132981170040388, 'reg_lambda': 0.15774181577721147, 'learning_rate': 0.008, 'max_depth': 10, 'num_leaves': 3, 'min_child_samples': 25}. Best is trial 184 with value: 1130772.9443924562.\u001b[0m\n",
      "\u001b[32m[I 2023-03-07 12:43:33,695]\u001b[0m Trial 191 finished with value: 1444994.3423246539 and parameters: {'reg_alpha': 0.2708438636196601, 'reg_lambda': 0.013556213332704634, 'learning_rate': 0.008, 'max_depth': 100, 'num_leaves': 3, 'min_child_samples': 35}. Best is trial 184 with value: 1130772.9443924562.\u001b[0m\n",
      "\u001b[32m[I 2023-03-07 12:43:33,848]\u001b[0m Trial 192 finished with value: 1745747.7493516672 and parameters: {'reg_alpha': 0.07457977187391267, 'reg_lambda': 0.02368914061525721, 'learning_rate': 0.008, 'max_depth': 20, 'num_leaves': 3, 'min_child_samples': 33}. Best is trial 184 with value: 1130772.9443924562.\u001b[0m\n",
      "\u001b[32m[I 2023-03-07 12:43:33,984]\u001b[0m Trial 193 finished with value: 1518801.6086184597 and parameters: {'reg_alpha': 0.00997407964930382, 'reg_lambda': 0.01599783285205715, 'learning_rate': 0.008, 'max_depth': 10, 'num_leaves': 3, 'min_child_samples': 37}. Best is trial 184 with value: 1130772.9443924562.\u001b[0m\n",
      "\u001b[32m[I 2023-03-07 12:43:34,093]\u001b[0m Trial 194 finished with value: 1473806.6737540646 and parameters: {'reg_alpha': 0.002820510912613922, 'reg_lambda': 0.018055851264719765, 'learning_rate': 0.008, 'max_depth': 20, 'num_leaves': 2, 'min_child_samples': 35}. Best is trial 184 with value: 1130772.9443924562.\u001b[0m\n",
      "\u001b[32m[I 2023-03-07 12:43:34,229]\u001b[0m Trial 195 finished with value: 1658315.7067767608 and parameters: {'reg_alpha': 0.12897609059573795, 'reg_lambda': 0.03610121558900058, 'learning_rate': 0.008, 'max_depth': 100, 'num_leaves': 3, 'min_child_samples': 29}. Best is trial 184 with value: 1130772.9443924562.\u001b[0m\n",
      "\u001b[32m[I 2023-03-07 12:43:34,364]\u001b[0m Trial 196 finished with value: 1537292.5527372789 and parameters: {'reg_alpha': 0.0055731714404420405, 'reg_lambda': 0.011520481884196437, 'learning_rate': 0.02, 'max_depth': 10, 'num_leaves': 3, 'min_child_samples': 7}. Best is trial 184 with value: 1130772.9443924562.\u001b[0m\n",
      "\u001b[32m[I 2023-03-07 12:43:34,518]\u001b[0m Trial 197 finished with value: 1783311.4502798438 and parameters: {'reg_alpha': 0.0015176381742034591, 'reg_lambda': 0.2015627077346187, 'learning_rate': 0.01, 'max_depth': 20, 'num_leaves': 4, 'min_child_samples': 38}. Best is trial 184 with value: 1130772.9443924562.\u001b[0m\n",
      "\u001b[32m[I 2023-03-07 12:43:34,630]\u001b[0m Trial 198 finished with value: 1348727.4642983307 and parameters: {'reg_alpha': 0.016654315006122945, 'reg_lambda': 0.046544010845446356, 'learning_rate': 0.008, 'max_depth': 10, 'num_leaves': 2, 'min_child_samples': 40}. Best is trial 184 with value: 1130772.9443924562.\u001b[0m\n",
      "\u001b[32m[I 2023-03-07 12:43:34,827]\u001b[0m Trial 199 finished with value: 1654905.3159466793 and parameters: {'reg_alpha': 0.0037008480919065935, 'reg_lambda': 0.24866215912232661, 'learning_rate': 0.008, 'max_depth': 100, 'num_leaves': 6, 'min_child_samples': 32}. Best is trial 184 with value: 1130772.9443924562.\u001b[0m\n"
     ]
    }
   ],
   "source": [
    "study = optuna.create_study(direction='minimize')\n",
    "study.optimize(objective, n_trials=200)"
   ]
  },
  {
   "cell_type": "code",
   "execution_count": 51,
   "id": "2ea335e7",
   "metadata": {},
   "outputs": [
    {
     "name": "stdout",
     "output_type": "stream",
     "text": [
      "best rmse: 1063.3780815836183\n"
     ]
    }
   ],
   "source": [
    "print('best rmse:', np.sqrt(study.best_trial.value))"
   ]
  },
  {
   "cell_type": "code",
   "execution_count": 52,
   "id": "49eee19e",
   "metadata": {},
   "outputs": [
    {
     "data": {
      "text/plain": [
       "{'reg_alpha': 0.012466958404923028,\n",
       " 'reg_lambda': 0.017560950215481264,\n",
       " 'learning_rate': 0.008,\n",
       " 'max_depth': 10,\n",
       " 'num_leaves': 3,\n",
       " 'min_child_samples': 34}"
      ]
     },
     "execution_count": 52,
     "metadata": {},
     "output_type": "execute_result"
    }
   ],
   "source": [
    "study.best_params"
   ]
  },
  {
   "cell_type": "code",
   "execution_count": 58,
   "id": "0ccc9dc4",
   "metadata": {},
   "outputs": [],
   "source": [
    "params = {\n",
    "    'objective': 'regression',\n",
    "    'metric': 'mse',\n",
    "    'n_estimators': 2000,\n",
    "    'learning_rate': study.best_params['learning_rate'],\n",
    "    'max_depth': study.best_params['max_depth'],\n",
    "    'num_leaves': study.best_params['num_leaves'],\n",
    "    'min_child_samples': study.best_params['min_child_samples'],\n",
    "    'reg_alpha': study.best_params['reg_alpha'],\n",
    "    'reg_lambda': study.best_params['reg_lambda']\n",
    "}"
   ]
  },
  {
   "cell_type": "code",
   "execution_count": null,
   "id": "c1afa4f9",
   "metadata": {
    "scrolled": true
   },
   "outputs": [],
   "source": [
    "models_lgbm, oof_preds_lgbm, fi_lgbm = kfold_lgbm(X, y, params, early_stopping_rounds=50, verbose=100, shuffle=True)"
   ]
  },
  {
   "cell_type": "code",
   "execution_count": 60,
   "id": "df18a65d",
   "metadata": {
    "scrolled": true
   },
   "outputs": [
    {
     "name": "stdout",
     "output_type": "stream",
     "text": [
      "RMSE: 1215.4420253291814\n",
      "MAE: 979.4753573481175\n",
      "median y: 3664.5198\n",
      "R2: 0.5873524290909662\n"
     ]
    }
   ],
   "source": [
    "metrics_lgbm = show_metrics(oof_preds_lgbm, model_name='lgbm')"
   ]
  },
  {
   "cell_type": "code",
   "execution_count": 61,
   "id": "2f432c72",
   "metadata": {},
   "outputs": [
    {
     "data": {
      "text/html": [
       "<div>\n",
       "<style scoped>\n",
       "    .dataframe tbody tr th:only-of-type {\n",
       "        vertical-align: middle;\n",
       "    }\n",
       "\n",
       "    .dataframe tbody tr th {\n",
       "        vertical-align: top;\n",
       "    }\n",
       "\n",
       "    .dataframe thead th {\n",
       "        text-align: right;\n",
       "    }\n",
       "</style>\n",
       "<table border=\"1\" class=\"dataframe\">\n",
       "  <thead>\n",
       "    <tr style=\"text-align: right;\">\n",
       "      <th></th>\n",
       "      <th>lgbm</th>\n",
       "    </tr>\n",
       "  </thead>\n",
       "  <tbody>\n",
       "    <tr>\n",
       "      <th>rmse</th>\n",
       "      <td>1215.442025</td>\n",
       "    </tr>\n",
       "    <tr>\n",
       "      <th>mae</th>\n",
       "      <td>979.475357</td>\n",
       "    </tr>\n",
       "    <tr>\n",
       "      <th>median_y</th>\n",
       "      <td>3664.519775</td>\n",
       "    </tr>\n",
       "    <tr>\n",
       "      <th>r2</th>\n",
       "      <td>0.587352</td>\n",
       "    </tr>\n",
       "  </tbody>\n",
       "</table>\n",
       "</div>"
      ],
      "text/plain": [
       "                 lgbm\n",
       "rmse      1215.442025\n",
       "mae        979.475357\n",
       "median_y  3664.519775\n",
       "r2           0.587352"
      ]
     },
     "execution_count": 61,
     "metadata": {},
     "output_type": "execute_result"
    }
   ],
   "source": [
    "metrics_lgbm"
   ]
  },
  {
   "cell_type": "markdown",
   "id": "b25845ef",
   "metadata": {},
   "source": [
    "# Results LightGBM\n",
    "\n",
    "The LightGBM model performs worse on all our metrics than the linear regression model without regularization, but the feature importances are similar as we can see below."
   ]
  },
  {
   "cell_type": "code",
   "execution_count": 62,
   "id": "7fad6a66",
   "metadata": {},
   "outputs": [],
   "source": [
    "fi_lgbm = process_fi(fi_lgbm)"
   ]
  },
  {
   "cell_type": "code",
   "execution_count": 63,
   "id": "46719f5f",
   "metadata": {},
   "outputs": [
    {
     "data": {
      "image/png": "[encoded data removed]",
      "text/plain": [
       "<Figure size 1280x960 with 1 Axes>"
      ]
     },
     "metadata": {},
     "output_type": "display_data"
    }
   ],
   "source": [
    "feature_importances_plot(fi_lgbm)"
   ]
  },
  {
   "cell_type": "markdown",
   "id": "e294fef8",
   "metadata": {},
   "source": [
    "# Elastic Net Model"
   ]
  },
  {
   "cell_type": "code",
   "execution_count": 64,
   "id": "ba94681f",
   "metadata": {},
   "outputs": [],
   "source": [
    "# help(ElasticNet)"
   ]
  },
  {
   "cell_type": "code",
   "execution_count": 65,
   "id": "a8eb580c",
   "metadata": {},
   "outputs": [],
   "source": [
    "params = {\n",
    "    'elas__alpha': loguniform(1e-5, 1e2),\n",
    "    'elas__l1_ratio': uniform(0, 1)\n",
    "}\n",
    "\n",
    "pipe_lr = Pipeline([\n",
    "    ('scaler', StandardScaler()),\n",
    "    ('elas', ElasticNet(max_iter=10_000))\n",
    "])\n",
    "\n",
    "elas = RandomizedSearchCV(pipe_lr,\n",
    "                        param_distributions=params,\n",
    "                        n_iter=1_000,\n",
    "                        scoring='neg_mean_squared_error',\n",
    "                        verbose=1,\n",
    "                        random_state=SEED,\n",
    "                        cv=FOLDS)"
   ]
  },
  {
   "cell_type": "code",
   "execution_count": 66,
   "id": "71412717",
   "metadata": {},
   "outputs": [
    {
     "name": "stdout",
     "output_type": "stream",
     "text": [
      "Fitting 10 folds for each of 1000 candidates, totalling 10000 fits\n"
     ]
    },
    {
     "data": {
      "text/html": [
       "<style>#sk-container-id-1 {color: black;background-color: white;}#sk-container-id-1 pre{padding: 0;}#sk-container-id-1 div.sk-toggleable {background-color: white;}#sk-container-id-1 label.sk-toggleable__label {cursor: pointer;display: block;width: 100%;margin-bottom: 0;padding: 0.3em;box-sizing: border-box;text-align: center;}#sk-container-id-1 label.sk-toggleable__label-arrow:before {content: \"▸\";float: left;margin-right: 0.25em;color: #696969;}#sk-container-id-1 label.sk-toggleable__label-arrow:hover:before {color: black;}#sk-container-id-1 div.sk-estimator:hover label.sk-toggleable__label-arrow:before {color: black;}#sk-container-id-1 div.sk-toggleable__content {max-height: 0;max-width: 0;overflow: hidden;text-align: left;background-color: #f0f8ff;}#sk-container-id-1 div.sk-toggleable__content pre {margin: 0.2em;color: black;border-radius: 0.25em;background-color: #f0f8ff;}#sk-container-id-1 input.sk-toggleable__control:checked~div.sk-toggleable__content {max-height: 200px;max-width: 100%;overflow: auto;}#sk-container-id-1 input.sk-toggleable__control:checked~label.sk-toggleable__label-arrow:before {content: \"▾\";}#sk-container-id-1 div.sk-estimator input.sk-toggleable__control:checked~label.sk-toggleable__label {background-color: #d4ebff;}#sk-container-id-1 div.sk-label input.sk-toggleable__control:checked~label.sk-toggleable__label {background-color: #d4ebff;}#sk-container-id-1 input.sk-hidden--visually {border: 0;clip: rect(1px 1px 1px 1px);clip: rect(1px, 1px, 1px, 1px);height: 1px;margin: -1px;overflow: hidden;padding: 0;position: absolute;width: 1px;}#sk-container-id-1 div.sk-estimator {font-family: monospace;background-color: #f0f8ff;border: 1px dotted black;border-radius: 0.25em;box-sizing: border-box;margin-bottom: 0.5em;}#sk-container-id-1 div.sk-estimator:hover {background-color: #d4ebff;}#sk-container-id-1 div.sk-parallel-item::after {content: \"\";width: 100%;border-bottom: 1px solid gray;flex-grow: 1;}#sk-container-id-1 div.sk-label:hover label.sk-toggleable__label {background-color: #d4ebff;}#sk-container-id-1 div.sk-serial::before {content: \"\";position: absolute;border-left: 1px solid gray;box-sizing: border-box;top: 0;bottom: 0;left: 50%;z-index: 0;}#sk-container-id-1 div.sk-serial {display: flex;flex-direction: column;align-items: center;background-color: white;padding-right: 0.2em;padding-left: 0.2em;position: relative;}#sk-container-id-1 div.sk-item {position: relative;z-index: 1;}#sk-container-id-1 div.sk-parallel {display: flex;align-items: stretch;justify-content: center;background-color: white;position: relative;}#sk-container-id-1 div.sk-item::before, #sk-container-id-1 div.sk-parallel-item::before {content: \"\";position: absolute;border-left: 1px solid gray;box-sizing: border-box;top: 0;bottom: 0;left: 50%;z-index: -1;}#sk-container-id-1 div.sk-parallel-item {display: flex;flex-direction: column;z-index: 1;position: relative;background-color: white;}#sk-container-id-1 div.sk-parallel-item:first-child::after {align-self: flex-end;width: 50%;}#sk-container-id-1 div.sk-parallel-item:last-child::after {align-self: flex-start;width: 50%;}#sk-container-id-1 div.sk-parallel-item:only-child::after {width: 0;}#sk-container-id-1 div.sk-dashed-wrapped {border: 1px dashed gray;margin: 0 0.4em 0.5em 0.4em;box-sizing: border-box;padding-bottom: 0.4em;background-color: white;}#sk-container-id-1 div.sk-label label {font-family: monospace;font-weight: bold;display: inline-block;line-height: 1.2em;}#sk-container-id-1 div.sk-label-container {text-align: center;}#sk-container-id-1 div.sk-container {/* jupyter's `normalize.less` sets `[hidden] { display: none; }` but bootstrap.min.css set `[hidden] { display: none !important; }` so we also need the `!important` here to be able to override the default hidden behavior on the sphinx rendered scikit-learn.org. See: https://github.com/scikit-learn/scikit-learn/issues/21755 */display: inline-block !important;position: relative;}#sk-container-id-1 div.sk-text-repr-fallback {display: none;}</style><div id=\"sk-container-id-1\" class=\"sk-top-container\"><div class=\"sk-text-repr-fallback\"><pre>RandomizedSearchCV(cv=10,\n",
       "                   estimator=Pipeline(steps=[(&#x27;scaler&#x27;, StandardScaler()),\n",
       "                                             (&#x27;elas&#x27;,\n",
       "                                              ElasticNet(max_iter=10000))]),\n",
       "                   n_iter=1000,\n",
       "                   param_distributions={&#x27;elas__alpha&#x27;: &lt;scipy.stats._distn_infrastructure.rv_continuous_frozen object at 0x00000227651D6550&gt;,\n",
       "                                        &#x27;elas__l1_ratio&#x27;: &lt;scipy.stats._distn_infrastructure.rv_continuous_frozen object at 0x0000022763C04ED0&gt;},\n",
       "                   random_state=1337, scoring=&#x27;neg_mean_squared_error&#x27;,\n",
       "                   verbose=1)</pre><b>In a Jupyter environment, please rerun this cell to show the HTML representation or trust the notebook. <br />On GitHub, the HTML representation is unable to render, please try loading this page with nbviewer.org.</b></div><div class=\"sk-container\" hidden><div class=\"sk-item sk-dashed-wrapped\"><div class=\"sk-label-container\"><div class=\"sk-label sk-toggleable\"><input class=\"sk-toggleable__control sk-hidden--visually\" id=\"sk-estimator-id-1\" type=\"checkbox\" ><label for=\"sk-estimator-id-1\" class=\"sk-toggleable__label sk-toggleable__label-arrow\">RandomizedSearchCV</label><div class=\"sk-toggleable__content\"><pre>RandomizedSearchCV(cv=10,\n",
       "                   estimator=Pipeline(steps=[(&#x27;scaler&#x27;, StandardScaler()),\n",
       "                                             (&#x27;elas&#x27;,\n",
       "                                              ElasticNet(max_iter=10000))]),\n",
       "                   n_iter=1000,\n",
       "                   param_distributions={&#x27;elas__alpha&#x27;: &lt;scipy.stats._distn_infrastructure.rv_continuous_frozen object at 0x00000227651D6550&gt;,\n",
       "                                        &#x27;elas__l1_ratio&#x27;: &lt;scipy.stats._distn_infrastructure.rv_continuous_frozen object at 0x0000022763C04ED0&gt;},\n",
       "                   random_state=1337, scoring=&#x27;neg_mean_squared_error&#x27;,\n",
       "                   verbose=1)</pre></div></div></div><div class=\"sk-parallel\"><div class=\"sk-parallel-item\"><div class=\"sk-item\"><div class=\"sk-label-container\"><div class=\"sk-label sk-toggleable\"><input class=\"sk-toggleable__control sk-hidden--visually\" id=\"sk-estimator-id-2\" type=\"checkbox\" ><label for=\"sk-estimator-id-2\" class=\"sk-toggleable__label sk-toggleable__label-arrow\">estimator: Pipeline</label><div class=\"sk-toggleable__content\"><pre>Pipeline(steps=[(&#x27;scaler&#x27;, StandardScaler()),\n",
       "                (&#x27;elas&#x27;, ElasticNet(max_iter=10000))])</pre></div></div></div><div class=\"sk-serial\"><div class=\"sk-item\"><div class=\"sk-serial\"><div class=\"sk-item\"><div class=\"sk-estimator sk-toggleable\"><input class=\"sk-toggleable__control sk-hidden--visually\" id=\"sk-estimator-id-3\" type=\"checkbox\" ><label for=\"sk-estimator-id-3\" class=\"sk-toggleable__label sk-toggleable__label-arrow\">StandardScaler</label><div class=\"sk-toggleable__content\"><pre>StandardScaler()</pre></div></div></div><div class=\"sk-item\"><div class=\"sk-estimator sk-toggleable\"><input class=\"sk-toggleable__control sk-hidden--visually\" id=\"sk-estimator-id-4\" type=\"checkbox\" ><label for=\"sk-estimator-id-4\" class=\"sk-toggleable__label sk-toggleable__label-arrow\">ElasticNet</label><div class=\"sk-toggleable__content\"><pre>ElasticNet(max_iter=10000)</pre></div></div></div></div></div></div></div></div></div></div></div></div>"
      ],
      "text/plain": [
       "RandomizedSearchCV(cv=10,\n",
       "                   estimator=Pipeline(steps=[('scaler', StandardScaler()),\n",
       "                                             ('elas',\n",
       "                                              ElasticNet(max_iter=10000))]),\n",
       "                   n_iter=1000,\n",
       "                   param_distributions={'elas__alpha': <scipy.stats._distn_infrastructure.rv_continuous_frozen object at 0x00000227651D6550>,\n",
       "                                        'elas__l1_ratio': <scipy.stats._distn_infrastructure.rv_continuous_frozen object at 0x0000022763C04ED0>},\n",
       "                   random_state=1337, scoring='neg_mean_squared_error',\n",
       "                   verbose=1)"
      ]
     },
     "execution_count": 66,
     "metadata": {},
     "output_type": "execute_result"
    }
   ],
   "source": [
    "elas.fit(X, y)"
   ]
  },
  {
   "cell_type": "markdown",
   "id": "6d5e8a85",
   "metadata": {},
   "source": [
    "# Best Parameters, Randomized Search, Elastic Net"
   ]
  },
  {
   "cell_type": "code",
   "execution_count": 67,
   "id": "ff53abad",
   "metadata": {},
   "outputs": [
    {
     "data": {
      "text/plain": [
       "{'elas__alpha': 0.009125128891602862, 'elas__l1_ratio': 0.25190402856513405}"
      ]
     },
     "execution_count": 67,
     "metadata": {},
     "output_type": "execute_result"
    }
   ],
   "source": [
    "best_params_elas = elas.best_params_\n",
    "best_params_elas"
   ]
  },
  {
   "cell_type": "code",
   "execution_count": 69,
   "id": "1a50a816",
   "metadata": {},
   "outputs": [
    {
     "name": "stdout",
     "output_type": "stream",
     "text": [
      "best RMSE: 1120.9219298603982\n"
     ]
    }
   ],
   "source": [
    "print('best RMSE:', np.sqrt(np.abs(elas.best_score_)))"
   ]
  },
  {
   "cell_type": "code",
   "execution_count": 70,
   "id": "6bc1a289",
   "metadata": {},
   "outputs": [],
   "source": [
    "elas = ElasticNet(max_iter=10_000, alpha=best_params_elas['elas__alpha'], l1_ratio=best_params_elas['elas__l1_ratio'])"
   ]
  },
  {
   "cell_type": "code",
   "execution_count": 71,
   "id": "52a3c0af",
   "metadata": {},
   "outputs": [
    {
     "name": "stdout",
     "output_type": "stream",
     "text": [
      "############ Training FOLD 1 ############\n",
      "############ Training FOLD 2 ############\n",
      "############ Training FOLD 3 ############\n",
      "############ Training FOLD 4 ############\n",
      "############ Training FOLD 5 ############\n",
      "############ Training FOLD 6 ############\n",
      "############ Training FOLD 7 ############\n",
      "############ Training FOLD 8 ############\n",
      "############ Training FOLD 9 ############\n",
      "############ Training FOLD 10 ############\n"
     ]
    }
   ],
   "source": [
    "models_elas, oof_preds_elas, fi_elas, scores_elas = kfold_model(elas, X, y)"
   ]
  },
  {
   "cell_type": "code",
   "execution_count": 72,
   "id": "bb1dea6e",
   "metadata": {},
   "outputs": [
    {
     "name": "stdout",
     "output_type": "stream",
     "text": [
      "RMSE: 1115.510655168059\n",
      "MAE: 890.6643652980162\n",
      "median y: 3664.5198\n",
      "R2: 0.652417228497363\n"
     ]
    }
   ],
   "source": [
    "metrics_elas = show_metrics(oof_preds_elas, model_name='elas')"
   ]
  },
  {
   "cell_type": "code",
   "execution_count": 73,
   "id": "097e311c",
   "metadata": {},
   "outputs": [
    {
     "data": {
      "text/html": [
       "<div>\n",
       "<style scoped>\n",
       "    .dataframe tbody tr th:only-of-type {\n",
       "        vertical-align: middle;\n",
       "    }\n",
       "\n",
       "    .dataframe tbody tr th {\n",
       "        vertical-align: top;\n",
       "    }\n",
       "\n",
       "    .dataframe thead th {\n",
       "        text-align: right;\n",
       "    }\n",
       "</style>\n",
       "<table border=\"1\" class=\"dataframe\">\n",
       "  <thead>\n",
       "    <tr style=\"text-align: right;\">\n",
       "      <th></th>\n",
       "      <th>elas</th>\n",
       "    </tr>\n",
       "  </thead>\n",
       "  <tbody>\n",
       "    <tr>\n",
       "      <th>rmse</th>\n",
       "      <td>1115.510655</td>\n",
       "    </tr>\n",
       "    <tr>\n",
       "      <th>mae</th>\n",
       "      <td>890.664365</td>\n",
       "    </tr>\n",
       "    <tr>\n",
       "      <th>median_y</th>\n",
       "      <td>3664.519775</td>\n",
       "    </tr>\n",
       "    <tr>\n",
       "      <th>r2</th>\n",
       "      <td>0.652417</td>\n",
       "    </tr>\n",
       "  </tbody>\n",
       "</table>\n",
       "</div>"
      ],
      "text/plain": [
       "                 elas\n",
       "rmse      1115.510655\n",
       "mae        890.664365\n",
       "median_y  3664.519775\n",
       "r2           0.652417"
      ]
     },
     "execution_count": 73,
     "metadata": {},
     "output_type": "execute_result"
    }
   ],
   "source": [
    "metrics_elas"
   ]
  },
  {
   "cell_type": "code",
   "execution_count": 74,
   "id": "67bf0013",
   "metadata": {},
   "outputs": [],
   "source": [
    "fi_elas = process_fi(fi_elas)"
   ]
  },
  {
   "cell_type": "code",
   "execution_count": 77,
   "id": "14fe932d",
   "metadata": {},
   "outputs": [
    {
     "data": {
      "image/png": "[encoded data removed]",
      "text/plain": [
       "<Figure size 1280x960 with 1 Axes>"
      ]
     },
     "metadata": {},
     "output_type": "display_data"
    }
   ],
   "source": [
    "feature_importances_plot(fi_elas)"
   ]
  },
  {
   "cell_type": "code",
   "execution_count": 78,
   "id": "64dd0117",
   "metadata": {},
   "outputs": [],
   "source": [
    "metrics = metrics_lr.copy()"
   ]
  },
  {
   "cell_type": "code",
   "execution_count": 79,
   "id": "53af03b3",
   "metadata": {},
   "outputs": [],
   "source": [
    "metrics['lgbm'] = metrics_lgbm"
   ]
  },
  {
   "cell_type": "code",
   "execution_count": 80,
   "id": "c80c876e",
   "metadata": {},
   "outputs": [],
   "source": [
    "metrics['elas'] = metrics_elas"
   ]
  },
  {
   "cell_type": "code",
   "execution_count": 81,
   "id": "497dd8f0",
   "metadata": {},
   "outputs": [
    {
     "data": {
      "text/html": [
       "<div>\n",
       "<style scoped>\n",
       "    .dataframe tbody tr th:only-of-type {\n",
       "        vertical-align: middle;\n",
       "    }\n",
       "\n",
       "    .dataframe tbody tr th {\n",
       "        vertical-align: top;\n",
       "    }\n",
       "\n",
       "    .dataframe thead th {\n",
       "        text-align: right;\n",
       "    }\n",
       "</style>\n",
       "<table border=\"1\" class=\"dataframe\">\n",
       "  <thead>\n",
       "    <tr style=\"text-align: right;\">\n",
       "      <th></th>\n",
       "      <th>lr</th>\n",
       "      <th>lgbm</th>\n",
       "      <th>elas</th>\n",
       "    </tr>\n",
       "  </thead>\n",
       "  <tbody>\n",
       "    <tr>\n",
       "      <th>rmse</th>\n",
       "      <td>1115.576558</td>\n",
       "      <td>1215.442025</td>\n",
       "      <td>1115.510655</td>\n",
       "    </tr>\n",
       "    <tr>\n",
       "      <th>mae</th>\n",
       "      <td>890.866815</td>\n",
       "      <td>979.475357</td>\n",
       "      <td>890.664365</td>\n",
       "    </tr>\n",
       "    <tr>\n",
       "      <th>median_y</th>\n",
       "      <td>3664.519775</td>\n",
       "      <td>3664.519775</td>\n",
       "      <td>3664.519775</td>\n",
       "    </tr>\n",
       "    <tr>\n",
       "      <th>r2</th>\n",
       "      <td>0.652376</td>\n",
       "      <td>0.587352</td>\n",
       "      <td>0.652417</td>\n",
       "    </tr>\n",
       "  </tbody>\n",
       "</table>\n",
       "</div>"
      ],
      "text/plain": [
       "                   lr         lgbm         elas\n",
       "rmse      1115.576558  1215.442025  1115.510655\n",
       "mae        890.866815   979.475357   890.664365\n",
       "median_y  3664.519775  3664.519775  3664.519775\n",
       "r2           0.652376     0.587352     0.652417"
      ]
     },
     "execution_count": 81,
     "metadata": {},
     "output_type": "execute_result"
    }
   ],
   "source": [
    "metrics"
   ]
  },
  {
   "attachments": {},
   "cell_type": "markdown",
   "id": "8bc59d3e",
   "metadata": {},
   "source": [
    "# Final Comparison\n",
    "\n",
    "Our performance is slightly better in terms of RMSE and MAE with elastic net regularization than with linear regression without regularization. This is the model I will train on all the data and save for use in the dashboard."
   ]
  },
  {
   "cell_type": "code",
   "execution_count": 82,
   "id": "c3458ac4",
   "metadata": {},
   "outputs": [],
   "source": [
    "elas_final = ElasticNet(max_iter=10_000, alpha=best_params_elas['elas__alpha'], l1_ratio=best_params_elas['elas__l1_ratio'])"
   ]
  },
  {
   "cell_type": "code",
   "execution_count": 83,
   "id": "a9313b39",
   "metadata": {},
   "outputs": [],
   "source": [
    "sca = StandardScaler()\n",
    "X_sca = sca.fit_transform(X)\n",
    "\n",
    "X_sca = pd.DataFrame(data=X_sca, columns=X.columns)"
   ]
  },
  {
   "cell_type": "code",
   "execution_count": 84,
   "id": "c514c6e2",
   "metadata": {},
   "outputs": [
    {
     "data": {
      "text/html": [
       "<style>#sk-container-id-2 {color: black;background-color: white;}#sk-container-id-2 pre{padding: 0;}#sk-container-id-2 div.sk-toggleable {background-color: white;}#sk-container-id-2 label.sk-toggleable__label {cursor: pointer;display: block;width: 100%;margin-bottom: 0;padding: 0.3em;box-sizing: border-box;text-align: center;}#sk-container-id-2 label.sk-toggleable__label-arrow:before {content: \"▸\";float: left;margin-right: 0.25em;color: #696969;}#sk-container-id-2 label.sk-toggleable__label-arrow:hover:before {color: black;}#sk-container-id-2 div.sk-estimator:hover label.sk-toggleable__label-arrow:before {color: black;}#sk-container-id-2 div.sk-toggleable__content {max-height: 0;max-width: 0;overflow: hidden;text-align: left;background-color: #f0f8ff;}#sk-container-id-2 div.sk-toggleable__content pre {margin: 0.2em;color: black;border-radius: 0.25em;background-color: #f0f8ff;}#sk-container-id-2 input.sk-toggleable__control:checked~div.sk-toggleable__content {max-height: 200px;max-width: 100%;overflow: auto;}#sk-container-id-2 input.sk-toggleable__control:checked~label.sk-toggleable__label-arrow:before {content: \"▾\";}#sk-container-id-2 div.sk-estimator input.sk-toggleable__control:checked~label.sk-toggleable__label {background-color: #d4ebff;}#sk-container-id-2 div.sk-label input.sk-toggleable__control:checked~label.sk-toggleable__label {background-color: #d4ebff;}#sk-container-id-2 input.sk-hidden--visually {border: 0;clip: rect(1px 1px 1px 1px);clip: rect(1px, 1px, 1px, 1px);height: 1px;margin: -1px;overflow: hidden;padding: 0;position: absolute;width: 1px;}#sk-container-id-2 div.sk-estimator {font-family: monospace;background-color: #f0f8ff;border: 1px dotted black;border-radius: 0.25em;box-sizing: border-box;margin-bottom: 0.5em;}#sk-container-id-2 div.sk-estimator:hover {background-color: #d4ebff;}#sk-container-id-2 div.sk-parallel-item::after {content: \"\";width: 100%;border-bottom: 1px solid gray;flex-grow: 1;}#sk-container-id-2 div.sk-label:hover label.sk-toggleable__label {background-color: #d4ebff;}#sk-container-id-2 div.sk-serial::before {content: \"\";position: absolute;border-left: 1px solid gray;box-sizing: border-box;top: 0;bottom: 0;left: 50%;z-index: 0;}#sk-container-id-2 div.sk-serial {display: flex;flex-direction: column;align-items: center;background-color: white;padding-right: 0.2em;padding-left: 0.2em;position: relative;}#sk-container-id-2 div.sk-item {position: relative;z-index: 1;}#sk-container-id-2 div.sk-parallel {display: flex;align-items: stretch;justify-content: center;background-color: white;position: relative;}#sk-container-id-2 div.sk-item::before, #sk-container-id-2 div.sk-parallel-item::before {content: \"\";position: absolute;border-left: 1px solid gray;box-sizing: border-box;top: 0;bottom: 0;left: 50%;z-index: -1;}#sk-container-id-2 div.sk-parallel-item {display: flex;flex-direction: column;z-index: 1;position: relative;background-color: white;}#sk-container-id-2 div.sk-parallel-item:first-child::after {align-self: flex-end;width: 50%;}#sk-container-id-2 div.sk-parallel-item:last-child::after {align-self: flex-start;width: 50%;}#sk-container-id-2 div.sk-parallel-item:only-child::after {width: 0;}#sk-container-id-2 div.sk-dashed-wrapped {border: 1px dashed gray;margin: 0 0.4em 0.5em 0.4em;box-sizing: border-box;padding-bottom: 0.4em;background-color: white;}#sk-container-id-2 div.sk-label label {font-family: monospace;font-weight: bold;display: inline-block;line-height: 1.2em;}#sk-container-id-2 div.sk-label-container {text-align: center;}#sk-container-id-2 div.sk-container {/* jupyter's `normalize.less` sets `[hidden] { display: none; }` but bootstrap.min.css set `[hidden] { display: none !important; }` so we also need the `!important` here to be able to override the default hidden behavior on the sphinx rendered scikit-learn.org. See: https://github.com/scikit-learn/scikit-learn/issues/21755 */display: inline-block !important;position: relative;}#sk-container-id-2 div.sk-text-repr-fallback {display: none;}</style><div id=\"sk-container-id-2\" class=\"sk-top-container\"><div class=\"sk-text-repr-fallback\"><pre>ElasticNet(alpha=0.009125128891602862, l1_ratio=0.25190402856513405,\n",
       "           max_iter=10000)</pre><b>In a Jupyter environment, please rerun this cell to show the HTML representation or trust the notebook. <br />On GitHub, the HTML representation is unable to render, please try loading this page with nbviewer.org.</b></div><div class=\"sk-container\" hidden><div class=\"sk-item\"><div class=\"sk-estimator sk-toggleable\"><input class=\"sk-toggleable__control sk-hidden--visually\" id=\"sk-estimator-id-5\" type=\"checkbox\" checked><label for=\"sk-estimator-id-5\" class=\"sk-toggleable__label sk-toggleable__label-arrow\">ElasticNet</label><div class=\"sk-toggleable__content\"><pre>ElasticNet(alpha=0.009125128891602862, l1_ratio=0.25190402856513405,\n",
       "           max_iter=10000)</pre></div></div></div></div></div>"
      ],
      "text/plain": [
       "ElasticNet(alpha=0.009125128891602862, l1_ratio=0.25190402856513405,\n",
       "           max_iter=10000)"
      ]
     },
     "execution_count": 84,
     "metadata": {},
     "output_type": "execute_result"
    }
   ],
   "source": [
    "elas_final.fit(X_sca, y)"
   ]
  },
  {
   "cell_type": "code",
   "execution_count": 85,
   "id": "a4daff1e",
   "metadata": {},
   "outputs": [],
   "source": [
    "if SAVE_DATA is True:\n",
    "    sf.to_parquet(SIM_DATA_PATH)\n",
    "\n",
    "if SAVE_MODEL is True:\n",
    "    dump(elas_final, MODEL_PATH)"
   ]
  },
  {
   "cell_type": "code",
   "execution_count": null,
   "id": "e4190fda",
   "metadata": {},
   "outputs": [],
   "source": []
  }
 ],
 "metadata": {
  "kernelspec": {
   "display_name": "Python 3 (ipykernel)",
   "language": "python",
   "name": "python3"
  },
  "language_info": {
   "codemirror_mode": {
    "name": "ipython",
    "version": 3
   },
   "file_extension": ".py",
   "mimetype": "text/x-python",
   "name": "python",
   "nbconvert_exporter": "python",
   "pygments_lexer": "ipython3",
   "version": "3.11.0"
  }
 },
 "nbformat": 4,
 "nbformat_minor": 5
}
